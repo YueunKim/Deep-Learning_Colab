{
  "nbformat": 4,
  "nbformat_minor": 0,
  "metadata": {
    "colab": {
      "name": "01Cifa 100_colab.ipynb",
      "provenance": [],
      "collapsed_sections": [],
      "authorship_tag": "ABX9TyPqSKTZfyzFkBEDs4UOE3Em",
      "include_colab_link": true
    },
    "kernelspec": {
      "name": "python3",
      "display_name": "Python 3"
    },
    "accelerator": "GPU"
  },
  "cells": [
    {
      "cell_type": "markdown",
      "metadata": {
        "id": "view-in-github",
        "colab_type": "text"
      },
      "source": [
        "<a href=\"https://colab.research.google.com/github/YueunKim/Deep-Learning_Colab/blob/master/01Cifa_100_colab.ipynb\" target=\"_parent\"><img src=\"https://colab.research.google.com/assets/colab-badge.svg\" alt=\"Open In Colab\"/></a>"
      ]
    },
    {
      "cell_type": "code",
      "metadata": {
        "id": "aO_amtgApw4y",
        "colab_type": "code",
        "colab": {
          "base_uri": "https://localhost:8080/",
          "height": 35
        },
        "outputId": "f5886721-d82c-4cbe-bb77-e6b5d0990b34"
      },
      "source": [
        "%tensorflow_version 2.x\n",
        "import tensorflow as tf\n",
        "device_name = tf.test.gpu_device_name()\n",
        "if device_name != '/device:GPU:0':\n",
        "  raise SystemError('GPU device not found')\n",
        "print('Found GPU at: {}'.format(device_name))"
      ],
      "execution_count": null,
      "outputs": [
        {
          "output_type": "stream",
          "text": [
            "Found GPU at: /device:GPU:0\n"
          ],
          "name": "stdout"
        }
      ]
    },
    {
      "cell_type": "code",
      "metadata": {
        "id": "nGtCDxw0p8O2",
        "colab_type": "code",
        "colab": {
          "base_uri": "https://localhost:8080/",
          "height": 71
        },
        "outputId": "ef737527-dac5-46b1-f0c1-5fe9a946ad97"
      },
      "source": [
        "from tensorflow import keras\n",
        "from keras.datasets import cifar100\n",
        "(X_train, y_train), (X_test, y_test) = cifar100.load_data(label_mode='fine')"
      ],
      "execution_count": null,
      "outputs": [
        {
          "output_type": "stream",
          "text": [
            "Using TensorFlow backend.\n"
          ],
          "name": "stderr"
        },
        {
          "output_type": "stream",
          "text": [
            "Downloading data from https://www.cs.toronto.edu/~kriz/cifar-100-python.tar.gz\n",
            "169009152/169001437 [==============================] - 5s 0us/step\n"
          ],
          "name": "stdout"
        }
      ]
    },
    {
      "cell_type": "code",
      "metadata": {
        "id": "KLprqzVwp8RV",
        "colab_type": "code",
        "colab": {
          "base_uri": "https://localhost:8080/",
          "height": 35
        },
        "outputId": "1049c12e-91dd-4579-b0e7-54d00660992b"
      },
      "source": [
        "X_train.shape, X_test.shape"
      ],
      "execution_count": null,
      "outputs": [
        {
          "output_type": "execute_result",
          "data": {
            "text/plain": [
              "((50000, 32, 32, 3), (10000, 32, 32, 3))"
            ]
          },
          "metadata": {
            "tags": []
          },
          "execution_count": 3
        }
      ]
    },
    {
      "cell_type": "markdown",
      "metadata": {
        "id": "xf_pqKLWqYaI",
        "colab_type": "text"
      },
      "source": [
        "### 데이터 확인"
      ]
    },
    {
      "cell_type": "code",
      "metadata": {
        "id": "agJMEIgZp8T9",
        "colab_type": "code",
        "colab": {}
      },
      "source": [
        "CIFAR100_LABELS_LIST = [\n",
        "    'apple', 'aquarium_fish', 'baby', 'bear', 'beaver', 'bed', 'bee', 'beetle', \n",
        "    'bicycle', 'bottle', 'bowl', 'boy', 'bridge', 'bus', 'butterfly', 'camel', \n",
        "    'can', 'castle', 'caterpillar', 'cattle', 'chair', 'chimpanzee', 'clock', \n",
        "    'cloud', 'cockroach', 'couch', 'crab', 'crocodile', 'cup', 'dinosaur', \n",
        "    'dolphin', 'elephant', 'flatfish', 'forest', 'fox', 'girl', 'hamster', \n",
        "    'house', 'kangaroo', 'keyboard', 'lamp', 'lawn_mower', 'leopard', 'lion',\n",
        "    'lizard', 'lobster', 'man', 'maple_tree', 'motorcycle', 'mountain', 'mouse',\n",
        "    'mushroom', 'oak_tree', 'orange', 'orchid', 'otter', 'palm_tree', 'pear',\n",
        "    'pickup_truck', 'pine_tree', 'plain', 'plate', 'poppy', 'porcupine',\n",
        "    'possum', 'rabbit', 'raccoon', 'ray', 'road', 'rocket', 'rose',\n",
        "    'sea', 'seal', 'shark', 'shrew', 'skunk', 'skyscraper', 'snail', 'snake',\n",
        "    'spider', 'squirrel', 'streetcar', 'sunflower', 'sweet_pepper', 'table',\n",
        "    'tank', 'telephone', 'television', 'tiger', 'tractor', 'train', 'trout',\n",
        "    'tulip', 'turtle', 'wardrobe', 'whale', 'willow_tree', 'wolf', 'woman',\n",
        "    'worm'\n",
        "]"
      ],
      "execution_count": null,
      "outputs": []
    },
    {
      "cell_type": "code",
      "metadata": {
        "id": "urpIr3O0p8WV",
        "colab_type": "code",
        "colab": {
          "base_uri": "https://localhost:8080/",
          "height": 124
        },
        "outputId": "afdfa9e3-27e5-4444-dad6-79aee5dbeedf"
      },
      "source": [
        "import matplotlib.pyplot as plt\n",
        "%matplotlib inline\n",
        "\n",
        "plt.subplot(141)\n",
        "plt.imshow(X_train[0], interpolation=\"bicubic\")\n",
        "plt.grid(False)\n",
        "plt.subplot(142)\n",
        "plt.imshow(X_train[4], interpolation=\"bicubic\")\n",
        "plt.grid(False)\n",
        "plt.subplot(143)\n",
        "plt.imshow(X_train[8], interpolation=\"bicubic\")\n",
        "plt.grid(False)\n",
        "plt.subplot(144)\n",
        "plt.imshow(X_train[12], interpolation=\"bicubic\")\n",
        "plt.grid(False)\n",
        "plt.show()"
      ],
      "execution_count": null,
      "outputs": [
        {
          "output_type": "display_data",
          "data": {
            "image/png": "[encoded data removed]",
            "text/plain": [
              "<Figure size 432x288 with 4 Axes>"
            ]
          },
          "metadata": {
            "tags": [],
            "needs_background": "light"
          }
        }
      ]
    },
    {
      "cell_type": "code",
      "metadata": {
        "id": "K2mq0aiRqhAu",
        "colab_type": "code",
        "colab": {
          "base_uri": "https://localhost:8080/",
          "height": 35
        },
        "outputId": "80dd0794-3233-4cd1-bb24-49eff9302f1f"
      },
      "source": [
        "CIFAR100_LABELS_LIST[y_train[0][0]], CIFAR100_LABELS_LIST[y_train[4][0]], \\\n",
        "CIFAR100_LABELS_LIST[y_train[8][0]], CIFAR100_LABELS_LIST[y_train[12][0]]"
      ],
      "execution_count": null,
      "outputs": [
        {
          "output_type": "execute_result",
          "data": {
            "text/plain": [
              "('cattle', 'aquarium_fish', 'cloud', 'sunflower')"
            ]
          },
          "metadata": {
            "tags": []
          },
          "execution_count": 7
        }
      ]
    },
    {
      "cell_type": "markdown",
      "metadata": {
        "id": "ZKzJAtObq7j2",
        "colab_type": "text"
      },
      "source": [
        "#### 자료형 변환 및 스케일링\n",
        "- X: 실수형으로 정규화\n",
        "- Y: 1-hot encoding"
      ]
    },
    {
      "cell_type": "code",
      "metadata": {
        "id": "y6EUUKaZp8Yt",
        "colab_type": "code",
        "colab": {
          "base_uri": "https://localhost:8080/",
          "height": 35
        },
        "outputId": "67ade6ad-596a-4724-987c-f2a28523ef3a"
      },
      "source": [
        "X_train = X_train.astype('float32')/255.0\n",
        "X_test = X_test.astype('float32')/255.0\n",
        "\n",
        "print(X_train.shape, X_train.dtype)"
      ],
      "execution_count": null,
      "outputs": [
        {
          "output_type": "stream",
          "text": [
            "(50000, 32, 32, 3) float32\n"
          ],
          "name": "stdout"
        }
      ]
    },
    {
      "cell_type": "code",
      "metadata": {
        "id": "yQLhukCAp8g8",
        "colab_type": "code",
        "colab": {
          "base_uri": "https://localhost:8080/",
          "height": 269
        },
        "outputId": "41c31442-f146-420f-c135-957abb561ffc"
      },
      "source": [
        "Y_train = tf.keras.utils.to_categorical(y_train, 100)\n",
        "Y_test = tf.keras.utils.to_categorical(y_test, 100)\n",
        "Y_train[:2]"
      ],
      "execution_count": null,
      "outputs": [
        {
          "output_type": "execute_result",
          "data": {
            "text/plain": [
              "array([[0., 0., 0., 0., 0., 0., 0., 0., 0., 0., 0., 0., 0., 0., 0., 0.,\n",
              "        0., 0., 0., 1., 0., 0., 0., 0., 0., 0., 0., 0., 0., 0., 0., 0.,\n",
              "        0., 0., 0., 0., 0., 0., 0., 0., 0., 0., 0., 0., 0., 0., 0., 0.,\n",
              "        0., 0., 0., 0., 0., 0., 0., 0., 0., 0., 0., 0., 0., 0., 0., 0.,\n",
              "        0., 0., 0., 0., 0., 0., 0., 0., 0., 0., 0., 0., 0., 0., 0., 0.,\n",
              "        0., 0., 0., 0., 0., 0., 0., 0., 0., 0., 0., 0., 0., 0., 0., 0.,\n",
              "        0., 0., 0., 0.],\n",
              "       [0., 0., 0., 0., 0., 0., 0., 0., 0., 0., 0., 0., 0., 0., 0., 0.,\n",
              "        0., 0., 0., 0., 0., 0., 0., 0., 0., 0., 0., 0., 0., 1., 0., 0.,\n",
              "        0., 0., 0., 0., 0., 0., 0., 0., 0., 0., 0., 0., 0., 0., 0., 0.,\n",
              "        0., 0., 0., 0., 0., 0., 0., 0., 0., 0., 0., 0., 0., 0., 0., 0.,\n",
              "        0., 0., 0., 0., 0., 0., 0., 0., 0., 0., 0., 0., 0., 0., 0., 0.,\n",
              "        0., 0., 0., 0., 0., 0., 0., 0., 0., 0., 0., 0., 0., 0., 0., 0.,\n",
              "        0., 0., 0., 0.]], dtype=float32)"
            ]
          },
          "metadata": {
            "tags": []
          },
          "execution_count": 9
        }
      ]
    },
    {
      "cell_type": "markdown",
      "metadata": {
        "id": "N9lsmrK4rP4N",
        "colab_type": "text"
      },
      "source": [
        "### 모형구현"
      ]
    },
    {
      "cell_type": "code",
      "metadata": {
        "id": "-iwk4bDwp8jT",
        "colab_type": "code",
        "colab": {}
      },
      "source": [
        "from tensorflow.keras.models import Sequential\n",
        "from tensorflow.keras.layers import Conv2D, MaxPooling2D, Flatten, Dense, Dropout\n",
        "from tensorflow.keras.layers import Activation"
      ],
      "execution_count": null,
      "outputs": []
    },
    {
      "cell_type": "code",
      "metadata": {
        "id": "t2K7bIChp8ll",
        "colab_type": "code",
        "colab": {
          "base_uri": "https://localhost:8080/",
          "height": 845
        },
        "outputId": "ef0d294f-698b-4ef1-ce62-e769c453114b"
      },
      "source": [
        "model = Sequential()\n",
        "\n",
        "# Input Layer\n",
        "model.add(Conv2D(32, (3,3), padding='same', input_shape = X_train.shape[1:]))\n",
        "model.add(Activation('relu'))\n",
        "# MAXPOOL Layer 1\n",
        "model.add(MaxPooling2D(pool_size=(2, 2)))\n",
        "model.add(Activation('relu'))\n",
        "# CONV2D Layer 2\n",
        "model.add(Conv2D(64, (3,3), padding='same'))\n",
        "model.add(Activation('relu'))\n",
        "# MAXPOOL Layer 2\n",
        "model.add(MaxPooling2D(pool_size=(2, 2)))\n",
        "model.add(Activation('relu'))\n",
        "# Add a dropout of 10%\n",
        "model.add(Dropout(0.1))\n",
        "# CONV2D Layer 3\n",
        "model.add(Conv2D(128, (3,3), padding='same'))\n",
        "model.add(Activation('relu'))\n",
        "# MAXPOOL Layer 3\n",
        "model.add(MaxPooling2D(pool_size=(2,2)))\n",
        "# Add dropout of 25%\n",
        "model.add(Dropout(0.25))\n",
        "# flatten \n",
        "model.add(Flatten())\n",
        "# Fully Connected Layer 1\n",
        "model.add(Dense(512))\n",
        "model.add(Activation('relu'))\n",
        "# Adding a dropout of 50%\n",
        "model.add(Dropout(0.5))\n",
        "# Output Layer (Fully Connected Layer 2) \n",
        "model.add(Dense(100))\n",
        "model.add(Activation('softmax'))\n",
        "          \n",
        "model.summary()"
      ],
      "execution_count": null,
      "outputs": [
        {
          "output_type": "stream",
          "text": [
            "Model: \"sequential\"\n",
            "_________________________________________________________________\n",
            "Layer (type)                 Output Shape              Param #   \n",
            "=================================================================\n",
            "conv2d (Conv2D)              (None, 32, 32, 32)        896       \n",
            "_________________________________________________________________\n",
            "activation (Activation)      (None, 32, 32, 32)        0         \n",
            "_________________________________________________________________\n",
            "max_pooling2d (MaxPooling2D) (None, 16, 16, 32)        0         \n",
            "_________________________________________________________________\n",
            "activation_1 (Activation)    (None, 16, 16, 32)        0         \n",
            "_________________________________________________________________\n",
            "conv2d_1 (Conv2D)            (None, 16, 16, 64)        18496     \n",
            "_________________________________________________________________\n",
            "activation_2 (Activation)    (None, 16, 16, 64)        0         \n",
            "_________________________________________________________________\n",
            "max_pooling2d_1 (MaxPooling2 (None, 8, 8, 64)          0         \n",
            "_________________________________________________________________\n",
            "activation_3 (Activation)    (None, 8, 8, 64)          0         \n",
            "_________________________________________________________________\n",
            "dropout (Dropout)            (None, 8, 8, 64)          0         \n",
            "_________________________________________________________________\n",
            "conv2d_2 (Conv2D)            (None, 8, 8, 128)         73856     \n",
            "_________________________________________________________________\n",
            "activation_4 (Activation)    (None, 8, 8, 128)         0         \n",
            "_________________________________________________________________\n",
            "max_pooling2d_2 (MaxPooling2 (None, 4, 4, 128)         0         \n",
            "_________________________________________________________________\n",
            "dropout_1 (Dropout)          (None, 4, 4, 128)         0         \n",
            "_________________________________________________________________\n",
            "flatten (Flatten)            (None, 2048)              0         \n",
            "_________________________________________________________________\n",
            "dense (Dense)                (None, 512)               1049088   \n",
            "_________________________________________________________________\n",
            "activation_5 (Activation)    (None, 512)               0         \n",
            "_________________________________________________________________\n",
            "dropout_2 (Dropout)          (None, 512)               0         \n",
            "_________________________________________________________________\n",
            "dense_1 (Dense)              (None, 100)               51300     \n",
            "_________________________________________________________________\n",
            "activation_6 (Activation)    (None, 100)               0         \n",
            "=================================================================\n",
            "Total params: 1,193,636\n",
            "Trainable params: 1,193,636\n",
            "Non-trainable params: 0\n",
            "_________________________________________________________________\n"
          ],
          "name": "stdout"
        }
      ]
    },
    {
      "cell_type": "code",
      "metadata": {
        "id": "Dx7RgVQ_rcqu",
        "colab_type": "code",
        "colab": {}
      },
      "source": [
        "opt = tf.keras.optimizers.Adam(lr=0.0001)\n",
        "model.compile(loss='categorical_crossentropy', optimizer=opt, metrics=['accuracy'])"
      ],
      "execution_count": null,
      "outputs": []
    },
    {
      "cell_type": "code",
      "metadata": {
        "id": "-ueCAQpdrctu",
        "colab_type": "code",
        "colab": {
          "base_uri": "https://localhost:8080/",
          "height": 1000
        },
        "outputId": "f51e86b7-1732-48d3-bdf6-ea5d0a910692"
      },
      "source": [
        "history = model.fit(X_train, Y_train, epochs=100, batch_size=50,\n",
        "                    validation_data=(X_test, Y_test), verbose=1)"
      ],
      "execution_count": null,
      "outputs": [
        {
          "output_type": "stream",
          "text": [
            "Epoch 1/100\n",
            "1000/1000 [==============================] - 12s 12ms/step - loss: 4.3638 - accuracy: 0.0386 - val_loss: 4.0353 - val_accuracy: 0.1060\n",
            "Epoch 2/100\n",
            "1000/1000 [==============================] - 12s 12ms/step - loss: 3.9195 - accuracy: 0.1034 - val_loss: 3.6289 - val_accuracy: 0.1663\n",
            "Epoch 3/100\n",
            "1000/1000 [==============================] - 11s 11ms/step - loss: 3.6551 - accuracy: 0.1463 - val_loss: 3.4086 - val_accuracy: 0.2069\n",
            "Epoch 4/100\n",
            "1000/1000 [==============================] - 12s 12ms/step - loss: 3.4838 - accuracy: 0.1732 - val_loss: 3.2664 - val_accuracy: 0.2320\n",
            "Epoch 5/100\n",
            "1000/1000 [==============================] - 11s 11ms/step - loss: 3.3502 - accuracy: 0.1976 - val_loss: 3.1322 - val_accuracy: 0.2519\n",
            "Epoch 6/100\n",
            "1000/1000 [==============================] - 12s 12ms/step - loss: 3.2402 - accuracy: 0.2162 - val_loss: 3.0402 - val_accuracy: 0.2639\n",
            "Epoch 7/100\n",
            "1000/1000 [==============================] - 12s 12ms/step - loss: 3.1391 - accuracy: 0.2350 - val_loss: 2.9564 - val_accuracy: 0.2840\n",
            "Epoch 8/100\n",
            "1000/1000 [==============================] - 12s 12ms/step - loss: 3.0633 - accuracy: 0.2500 - val_loss: 2.8740 - val_accuracy: 0.2974\n",
            "Epoch 9/100\n",
            "1000/1000 [==============================] - 12s 12ms/step - loss: 2.9848 - accuracy: 0.2642 - val_loss: 2.8231 - val_accuracy: 0.3120\n",
            "Epoch 10/100\n",
            "1000/1000 [==============================] - 11s 11ms/step - loss: 2.9141 - accuracy: 0.2794 - val_loss: 2.7484 - val_accuracy: 0.3214\n",
            "Epoch 11/100\n",
            "1000/1000 [==============================] - 11s 11ms/step - loss: 2.8550 - accuracy: 0.2897 - val_loss: 2.6995 - val_accuracy: 0.3316\n",
            "Epoch 12/100\n",
            "1000/1000 [==============================] - 11s 11ms/step - loss: 2.7929 - accuracy: 0.3030 - val_loss: 2.6425 - val_accuracy: 0.3402\n",
            "Epoch 13/100\n",
            "1000/1000 [==============================] - 11s 11ms/step - loss: 2.7384 - accuracy: 0.3153 - val_loss: 2.6325 - val_accuracy: 0.3508\n",
            "Epoch 14/100\n",
            "1000/1000 [==============================] - 11s 11ms/step - loss: 2.6952 - accuracy: 0.3192 - val_loss: 2.5591 - val_accuracy: 0.3605\n",
            "Epoch 15/100\n",
            "1000/1000 [==============================] - 11s 11ms/step - loss: 2.6406 - accuracy: 0.3330 - val_loss: 2.5239 - val_accuracy: 0.3671\n",
            "Epoch 16/100\n",
            "1000/1000 [==============================] - 11s 11ms/step - loss: 2.6044 - accuracy: 0.3428 - val_loss: 2.4945 - val_accuracy: 0.3766\n",
            "Epoch 17/100\n",
            "1000/1000 [==============================] - 11s 11ms/step - loss: 2.5550 - accuracy: 0.3508 - val_loss: 2.4845 - val_accuracy: 0.3777\n",
            "Epoch 18/100\n",
            "1000/1000 [==============================] - 11s 11ms/step - loss: 2.5186 - accuracy: 0.3568 - val_loss: 2.4272 - val_accuracy: 0.3852\n",
            "Epoch 19/100\n",
            "1000/1000 [==============================] - 12s 12ms/step - loss: 2.4794 - accuracy: 0.3643 - val_loss: 2.4084 - val_accuracy: 0.3917\n",
            "Epoch 20/100\n",
            "1000/1000 [==============================] - 11s 11ms/step - loss: 2.4422 - accuracy: 0.3734 - val_loss: 2.3740 - val_accuracy: 0.3994\n",
            "Epoch 21/100\n",
            "1000/1000 [==============================] - 11s 11ms/step - loss: 2.4078 - accuracy: 0.3812 - val_loss: 2.3589 - val_accuracy: 0.3984\n",
            "Epoch 22/100\n",
            "1000/1000 [==============================] - 11s 11ms/step - loss: 2.3667 - accuracy: 0.3881 - val_loss: 2.3412 - val_accuracy: 0.4047\n",
            "Epoch 23/100\n",
            "1000/1000 [==============================] - 11s 11ms/step - loss: 2.3392 - accuracy: 0.3962 - val_loss: 2.3187 - val_accuracy: 0.4072\n",
            "Epoch 24/100\n",
            "1000/1000 [==============================] - 12s 12ms/step - loss: 2.3143 - accuracy: 0.3984 - val_loss: 2.2782 - val_accuracy: 0.4185\n",
            "Epoch 25/100\n",
            "1000/1000 [==============================] - 12s 12ms/step - loss: 2.2735 - accuracy: 0.4092 - val_loss: 2.2748 - val_accuracy: 0.4167\n",
            "Epoch 26/100\n",
            "1000/1000 [==============================] - 11s 11ms/step - loss: 2.2474 - accuracy: 0.4156 - val_loss: 2.2513 - val_accuracy: 0.4224\n",
            "Epoch 27/100\n",
            "1000/1000 [==============================] - 11s 11ms/step - loss: 2.2290 - accuracy: 0.4189 - val_loss: 2.2403 - val_accuracy: 0.4265\n",
            "Epoch 28/100\n",
            "1000/1000 [==============================] - 11s 11ms/step - loss: 2.1932 - accuracy: 0.4267 - val_loss: 2.2238 - val_accuracy: 0.4280\n",
            "Epoch 29/100\n",
            "1000/1000 [==============================] - 11s 11ms/step - loss: 2.1695 - accuracy: 0.4312 - val_loss: 2.2287 - val_accuracy: 0.4265\n",
            "Epoch 30/100\n",
            "1000/1000 [==============================] - 11s 11ms/step - loss: 2.1355 - accuracy: 0.4353 - val_loss: 2.1884 - val_accuracy: 0.4358\n",
            "Epoch 31/100\n",
            "1000/1000 [==============================] - 11s 11ms/step - loss: 2.1135 - accuracy: 0.4424 - val_loss: 2.1850 - val_accuracy: 0.4346\n",
            "Epoch 32/100\n",
            "1000/1000 [==============================] - 11s 11ms/step - loss: 2.0855 - accuracy: 0.4492 - val_loss: 2.1860 - val_accuracy: 0.4395\n",
            "Epoch 33/100\n",
            "1000/1000 [==============================] - 11s 11ms/step - loss: 2.0556 - accuracy: 0.4529 - val_loss: 2.1527 - val_accuracy: 0.4419\n",
            "Epoch 34/100\n",
            "1000/1000 [==============================] - 11s 11ms/step - loss: 2.0329 - accuracy: 0.4593 - val_loss: 2.1517 - val_accuracy: 0.4450\n",
            "Epoch 35/100\n",
            "1000/1000 [==============================] - 11s 11ms/step - loss: 2.0219 - accuracy: 0.4605 - val_loss: 2.1419 - val_accuracy: 0.4420\n",
            "Epoch 36/100\n",
            "1000/1000 [==============================] - 11s 11ms/step - loss: 1.9852 - accuracy: 0.4693 - val_loss: 2.1193 - val_accuracy: 0.4514\n",
            "Epoch 37/100\n",
            "1000/1000 [==============================] - 11s 11ms/step - loss: 1.9655 - accuracy: 0.4736 - val_loss: 2.1211 - val_accuracy: 0.4518\n",
            "Epoch 38/100\n",
            "1000/1000 [==============================] - 11s 11ms/step - loss: 1.9404 - accuracy: 0.4781 - val_loss: 2.1191 - val_accuracy: 0.4563\n",
            "Epoch 39/100\n",
            "1000/1000 [==============================] - 11s 11ms/step - loss: 1.9155 - accuracy: 0.4854 - val_loss: 2.0977 - val_accuracy: 0.4576\n",
            "Epoch 40/100\n",
            "1000/1000 [==============================] - 11s 11ms/step - loss: 1.9104 - accuracy: 0.4876 - val_loss: 2.1011 - val_accuracy: 0.4564\n",
            "Epoch 41/100\n",
            "1000/1000 [==============================] - 11s 11ms/step - loss: 1.8769 - accuracy: 0.4916 - val_loss: 2.0914 - val_accuracy: 0.4590\n",
            "Epoch 42/100\n",
            "1000/1000 [==============================] - 11s 11ms/step - loss: 1.8671 - accuracy: 0.4956 - val_loss: 2.0753 - val_accuracy: 0.4611\n",
            "Epoch 43/100\n",
            "1000/1000 [==============================] - 11s 11ms/step - loss: 1.8503 - accuracy: 0.5002 - val_loss: 2.0622 - val_accuracy: 0.4647\n",
            "Epoch 44/100\n",
            "1000/1000 [==============================] - 11s 11ms/step - loss: 1.8238 - accuracy: 0.5037 - val_loss: 2.0629 - val_accuracy: 0.4614\n",
            "Epoch 45/100\n",
            "1000/1000 [==============================] - 11s 11ms/step - loss: 1.8014 - accuracy: 0.5085 - val_loss: 2.0568 - val_accuracy: 0.4702\n",
            "Epoch 46/100\n",
            "1000/1000 [==============================] - 11s 11ms/step - loss: 1.7779 - accuracy: 0.5138 - val_loss: 2.0459 - val_accuracy: 0.4673\n",
            "Epoch 47/100\n",
            "1000/1000 [==============================] - 11s 11ms/step - loss: 1.7651 - accuracy: 0.5168 - val_loss: 2.0779 - val_accuracy: 0.4653\n",
            "Epoch 48/100\n",
            "1000/1000 [==============================] - 11s 11ms/step - loss: 1.7464 - accuracy: 0.5199 - val_loss: 2.0399 - val_accuracy: 0.4702\n",
            "Epoch 49/100\n",
            "1000/1000 [==============================] - 11s 11ms/step - loss: 1.7286 - accuracy: 0.5221 - val_loss: 2.0280 - val_accuracy: 0.4715\n",
            "Epoch 50/100\n",
            "1000/1000 [==============================] - 11s 11ms/step - loss: 1.7070 - accuracy: 0.5318 - val_loss: 2.0391 - val_accuracy: 0.4697\n",
            "Epoch 51/100\n",
            "1000/1000 [==============================] - 11s 11ms/step - loss: 1.6837 - accuracy: 0.5343 - val_loss: 2.0272 - val_accuracy: 0.4736\n",
            "Epoch 52/100\n",
            "1000/1000 [==============================] - 12s 12ms/step - loss: 1.6722 - accuracy: 0.5387 - val_loss: 2.0244 - val_accuracy: 0.4704\n",
            "Epoch 53/100\n",
            "1000/1000 [==============================] - 11s 11ms/step - loss: 1.6546 - accuracy: 0.5428 - val_loss: 2.0183 - val_accuracy: 0.4766\n",
            "Epoch 54/100\n",
            "1000/1000 [==============================] - 11s 11ms/step - loss: 1.6434 - accuracy: 0.5438 - val_loss: 2.0057 - val_accuracy: 0.4800\n",
            "Epoch 55/100\n",
            "1000/1000 [==============================] - 11s 11ms/step - loss: 1.6152 - accuracy: 0.5475 - val_loss: 2.0072 - val_accuracy: 0.4780\n",
            "Epoch 56/100\n",
            "1000/1000 [==============================] - 11s 11ms/step - loss: 1.6028 - accuracy: 0.5515 - val_loss: 2.0139 - val_accuracy: 0.4804\n",
            "Epoch 57/100\n",
            "1000/1000 [==============================] - 11s 11ms/step - loss: 1.5932 - accuracy: 0.5538 - val_loss: 2.0100 - val_accuracy: 0.4744\n",
            "Epoch 58/100\n",
            "1000/1000 [==============================] - 11s 11ms/step - loss: 1.5781 - accuracy: 0.5570 - val_loss: 1.9980 - val_accuracy: 0.4835\n",
            "Epoch 59/100\n",
            "1000/1000 [==============================] - 11s 11ms/step - loss: 1.5605 - accuracy: 0.5613 - val_loss: 1.9988 - val_accuracy: 0.4832\n",
            "Epoch 60/100\n",
            "1000/1000 [==============================] - 11s 11ms/step - loss: 1.5404 - accuracy: 0.5642 - val_loss: 2.0066 - val_accuracy: 0.4788\n",
            "Epoch 61/100\n",
            "1000/1000 [==============================] - 11s 11ms/step - loss: 1.5321 - accuracy: 0.5707 - val_loss: 1.9938 - val_accuracy: 0.4813\n",
            "Epoch 62/100\n",
            "1000/1000 [==============================] - 11s 11ms/step - loss: 1.5193 - accuracy: 0.5719 - val_loss: 1.9979 - val_accuracy: 0.4831\n",
            "Epoch 63/100\n",
            "1000/1000 [==============================] - 11s 11ms/step - loss: 1.4961 - accuracy: 0.5741 - val_loss: 2.0076 - val_accuracy: 0.4825\n",
            "Epoch 64/100\n",
            "1000/1000 [==============================] - 11s 11ms/step - loss: 1.4876 - accuracy: 0.5798 - val_loss: 2.0046 - val_accuracy: 0.4820\n",
            "Epoch 65/100\n",
            "1000/1000 [==============================] - 11s 11ms/step - loss: 1.4663 - accuracy: 0.5831 - val_loss: 1.9927 - val_accuracy: 0.4849\n",
            "Epoch 66/100\n",
            "1000/1000 [==============================] - 11s 11ms/step - loss: 1.4538 - accuracy: 0.5879 - val_loss: 1.9876 - val_accuracy: 0.4839\n",
            "Epoch 67/100\n",
            "1000/1000 [==============================] - 11s 11ms/step - loss: 1.4384 - accuracy: 0.5872 - val_loss: 1.9909 - val_accuracy: 0.4837\n",
            "Epoch 68/100\n",
            "1000/1000 [==============================] - 11s 11ms/step - loss: 1.4281 - accuracy: 0.5902 - val_loss: 2.0081 - val_accuracy: 0.4806\n",
            "Epoch 69/100\n",
            "1000/1000 [==============================] - 11s 11ms/step - loss: 1.4142 - accuracy: 0.5943 - val_loss: 1.9988 - val_accuracy: 0.4837\n",
            "Epoch 70/100\n",
            "1000/1000 [==============================] - 11s 11ms/step - loss: 1.3968 - accuracy: 0.6001 - val_loss: 1.9855 - val_accuracy: 0.4861\n",
            "Epoch 71/100\n",
            "1000/1000 [==============================] - 11s 11ms/step - loss: 1.3960 - accuracy: 0.6003 - val_loss: 1.9968 - val_accuracy: 0.4851\n",
            "Epoch 72/100\n",
            "1000/1000 [==============================] - 11s 11ms/step - loss: 1.3765 - accuracy: 0.6022 - val_loss: 1.9933 - val_accuracy: 0.4857\n",
            "Epoch 73/100\n",
            "1000/1000 [==============================] - 11s 11ms/step - loss: 1.3673 - accuracy: 0.6056 - val_loss: 1.9828 - val_accuracy: 0.4898\n",
            "Epoch 74/100\n",
            "1000/1000 [==============================] - 11s 11ms/step - loss: 1.3487 - accuracy: 0.6115 - val_loss: 1.9848 - val_accuracy: 0.4861\n",
            "Epoch 75/100\n",
            "1000/1000 [==============================] - 11s 11ms/step - loss: 1.3365 - accuracy: 0.6134 - val_loss: 1.9830 - val_accuracy: 0.4893\n",
            "Epoch 76/100\n",
            "1000/1000 [==============================] - 11s 11ms/step - loss: 1.3304 - accuracy: 0.6150 - val_loss: 1.9826 - val_accuracy: 0.4913\n",
            "Epoch 77/100\n",
            "1000/1000 [==============================] - 11s 11ms/step - loss: 1.3135 - accuracy: 0.6195 - val_loss: 1.9838 - val_accuracy: 0.4896\n",
            "Epoch 78/100\n",
            "1000/1000 [==============================] - 11s 11ms/step - loss: 1.3090 - accuracy: 0.6173 - val_loss: 1.9868 - val_accuracy: 0.4928\n",
            "Epoch 79/100\n",
            "1000/1000 [==============================] - 11s 11ms/step - loss: 1.2901 - accuracy: 0.6248 - val_loss: 1.9897 - val_accuracy: 0.4877\n",
            "Epoch 80/100\n",
            "1000/1000 [==============================] - 11s 11ms/step - loss: 1.2885 - accuracy: 0.6242 - val_loss: 1.9954 - val_accuracy: 0.4877\n",
            "Epoch 81/100\n",
            "1000/1000 [==============================] - 11s 11ms/step - loss: 1.2661 - accuracy: 0.6282 - val_loss: 1.9966 - val_accuracy: 0.4892\n",
            "Epoch 82/100\n",
            "1000/1000 [==============================] - 11s 11ms/step - loss: 1.2705 - accuracy: 0.6274 - val_loss: 1.9900 - val_accuracy: 0.4869\n",
            "Epoch 83/100\n",
            "1000/1000 [==============================] - 11s 11ms/step - loss: 1.2492 - accuracy: 0.6345 - val_loss: 1.9848 - val_accuracy: 0.4902\n",
            "Epoch 84/100\n",
            "1000/1000 [==============================] - 11s 11ms/step - loss: 1.2403 - accuracy: 0.6371 - val_loss: 1.9995 - val_accuracy: 0.4880\n",
            "Epoch 85/100\n",
            "1000/1000 [==============================] - 11s 11ms/step - loss: 1.2266 - accuracy: 0.6376 - val_loss: 1.9896 - val_accuracy: 0.4892\n",
            "Epoch 86/100\n",
            "1000/1000 [==============================] - 11s 11ms/step - loss: 1.2224 - accuracy: 0.6380 - val_loss: 2.0027 - val_accuracy: 0.4904\n",
            "Epoch 87/100\n",
            "1000/1000 [==============================] - 11s 11ms/step - loss: 1.2110 - accuracy: 0.6438 - val_loss: 1.9929 - val_accuracy: 0.4942\n",
            "Epoch 88/100\n",
            "1000/1000 [==============================] - 11s 11ms/step - loss: 1.2130 - accuracy: 0.6430 - val_loss: 2.0135 - val_accuracy: 0.4898\n",
            "Epoch 89/100\n",
            "1000/1000 [==============================] - 12s 12ms/step - loss: 1.1930 - accuracy: 0.6492 - val_loss: 1.9926 - val_accuracy: 0.4906\n",
            "Epoch 90/100\n",
            "1000/1000 [==============================] - 12s 12ms/step - loss: 1.1819 - accuracy: 0.6511 - val_loss: 1.9973 - val_accuracy: 0.4887\n",
            "Epoch 91/100\n",
            "1000/1000 [==============================] - 12s 12ms/step - loss: 1.1779 - accuracy: 0.6520 - val_loss: 2.0063 - val_accuracy: 0.4911\n",
            "Epoch 92/100\n",
            "1000/1000 [==============================] - 12s 12ms/step - loss: 1.1629 - accuracy: 0.6534 - val_loss: 1.9993 - val_accuracy: 0.4925\n",
            "Epoch 93/100\n",
            "1000/1000 [==============================] - 12s 12ms/step - loss: 1.1501 - accuracy: 0.6617 - val_loss: 2.0109 - val_accuracy: 0.4905\n",
            "Epoch 94/100\n",
            "1000/1000 [==============================] - 11s 11ms/step - loss: 1.1554 - accuracy: 0.6558 - val_loss: 2.0120 - val_accuracy: 0.4903\n",
            "Epoch 95/100\n",
            "1000/1000 [==============================] - 12s 12ms/step - loss: 1.1385 - accuracy: 0.6588 - val_loss: 2.0116 - val_accuracy: 0.4939\n",
            "Epoch 96/100\n",
            "1000/1000 [==============================] - 12s 12ms/step - loss: 1.1238 - accuracy: 0.6659 - val_loss: 2.0256 - val_accuracy: 0.4891\n",
            "Epoch 97/100\n",
            "1000/1000 [==============================] - 11s 11ms/step - loss: 1.1272 - accuracy: 0.6659 - val_loss: 2.0126 - val_accuracy: 0.4944\n",
            "Epoch 98/100\n",
            "1000/1000 [==============================] - 11s 11ms/step - loss: 1.1112 - accuracy: 0.6689 - val_loss: 2.0317 - val_accuracy: 0.4914\n",
            "Epoch 99/100\n",
            "1000/1000 [==============================] - 12s 12ms/step - loss: 1.1091 - accuracy: 0.6671 - val_loss: 2.0238 - val_accuracy: 0.4917\n",
            "Epoch 100/100\n",
            "1000/1000 [==============================] - 11s 11ms/step - loss: 1.0961 - accuracy: 0.6726 - val_loss: 2.0081 - val_accuracy: 0.4906\n"
          ],
          "name": "stdout"
        }
      ]
    },
    {
      "cell_type": "code",
      "metadata": {
        "id": "llLQwCDercwd",
        "colab_type": "code",
        "colab": {
          "base_uri": "https://localhost:8080/",
          "height": 71
        },
        "outputId": "3027d4ac-dc7f-4ba9-fed4-24e30570690e"
      },
      "source": [
        "# 테스트 정확도 출력 \n",
        "print(\"\\n Test Accuracy: %.4f\" % (model.evaluate(X_test, Y_test)[1]))"
      ],
      "execution_count": null,
      "outputs": [
        {
          "output_type": "stream",
          "text": [
            "313/313 [==============================] - 2s 5ms/step - loss: 2.0081 - accuracy: 0.4906\n",
            "\n",
            " Test Accuracy: 0.4906\n"
          ],
          "name": "stdout"
        }
      ]
    },
    {
      "cell_type": "markdown",
      "metadata": {
        "id": "NIyxRkhuu1lQ",
        "colab_type": "text"
      },
      "source": [
        "결과 그래프로 확인하기"
      ]
    },
    {
      "cell_type": "code",
      "metadata": {
        "id": "xxTeJ2vkrczG",
        "colab_type": "code",
        "colab": {}
      },
      "source": [
        "# 테스트셋\n",
        "y_vloss = history.history['val_loss']\n",
        "y_vacc = history.history['val_accuracy']\n",
        "# 학습셋\n",
        "y_loss = history.history['loss']\n",
        "y_acc = history.history['accuracy']"
      ],
      "execution_count": null,
      "outputs": []
    },
    {
      "cell_type": "code",
      "metadata": {
        "id": "l56iCEs_rc1-",
        "colab_type": "code",
        "colab": {
          "base_uri": "https://localhost:8080/",
          "height": 498
        },
        "outputId": "573df0cd-6637-46d4-9c79-444aba46a4d6"
      },
      "source": [
        "# 그래프로 표현\n",
        "import numpy as np\n",
        "np.random.seed(0)\n",
        "\n",
        "x_len = np.arange(1, len(y_loss)+1)\n",
        "fig, ax0 = plt.subplots(figsize=(10,8))\n",
        "ax1 = ax0.twinx()\n",
        "ax0.plot(x_len, y_loss, c=\"blue\", label='Trainset_loss')\n",
        "ax0.plot(x_len, y_vloss, c=\"red\", label='Testset_loss')\n",
        "ax0.set_ylabel('loss')\n",
        "ax1.plot(x_len, y_acc, c=\"darkgreen\", label='Trainset_acc')\n",
        "ax1.plot(x_len, y_vacc, c=\"magenta\", label='Testset_acc')\n",
        "ax1.set_ylabel('accuracy')\n",
        "ax0.set_xlabel('epoch')\n",
        "ax0.legend(loc='upper center')\n",
        "ax1.legend(loc='lower center')\n",
        "plt.show()"
      ],
      "execution_count": null,
      "outputs": [
        {
          "output_type": "display_data",
          "data": {
            "image/png": "[encoded data removed]",
            "text/plain": [
              "<Figure size 720x576 with 2 Axes>"
            ]
          },
          "metadata": {
            "tags": [],
            "needs_background": "light"
          }
        }
      ]
    },
    {
      "cell_type": "code",
      "metadata": {
        "id": "4UVPmNkZrc4f",
        "colab_type": "code",
        "colab": {}
      },
      "source": [
        ""
      ],
      "execution_count": null,
      "outputs": []
    }
  ]
}