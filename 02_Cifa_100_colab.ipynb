{
  "nbformat": 4,
  "nbformat_minor": 0,
  "metadata": {
    "colab": {
      "name": "02 Cifa-100_colab.ipynb",
      "provenance": [],
      "collapsed_sections": [],
      "authorship_tag": "ABX9TyOwHiI3aLB/fFAx6UPwOeDg",
      "include_colab_link": true
    },
    "kernelspec": {
      "name": "python3",
      "display_name": "Python 3"
    },
    "accelerator": "GPU"
  },
  "cells": [
    {
      "cell_type": "markdown",
      "metadata": {
        "id": "view-in-github",
        "colab_type": "text"
      },
      "source": [
        "<a href=\"https://colab.research.google.com/github/YueunKim/Deep-Learning_Colab/blob/master/02_Cifa_100_colab.ipynb\" target=\"_parent\"><img src=\"https://colab.research.google.com/assets/colab-badge.svg\" alt=\"Open In Colab\"/></a>"
      ]
    },
    {
      "cell_type": "markdown",
      "metadata": {
        "id": "gZZkJqmrC5DV",
        "colab_type": "text"
      },
      "source": [
        "# Cifar-100\n",
        "## Best Model 찾기"
      ]
    },
    {
      "cell_type": "code",
      "metadata": {
        "id": "daYxltT1wsJ_",
        "colab_type": "code",
        "colab": {
          "base_uri": "https://localhost:8080/",
          "height": 35
        },
        "outputId": "4e64aa58-9ba5-4437-ec38-e99c034dc594"
      },
      "source": [
        "!mkdir model"
      ],
      "execution_count": null,
      "outputs": [
        {
          "output_type": "stream",
          "text": [
            "mkdir: cannot create directory ‘model’: File exists\n"
          ],
          "name": "stdout"
        }
      ]
    },
    {
      "cell_type": "code",
      "metadata": {
        "id": "UVHEYodJw1Nt",
        "colab_type": "code",
        "colab": {
          "base_uri": "https://localhost:8080/",
          "height": 71
        },
        "outputId": "89c8114a-9223-45b1-9454-61e515a3721f"
      },
      "source": [
        "!ls -l"
      ],
      "execution_count": null,
      "outputs": [
        {
          "output_type": "stream",
          "text": [
            "total 16\n",
            "drwxr-xr-x 2 root root 12288 Jul  7 07:27 model\n",
            "drwxr-xr-x 1 root root  4096 Jun 26 16:26 sample_data\n"
          ],
          "name": "stdout"
        }
      ]
    },
    {
      "cell_type": "code",
      "metadata": {
        "id": "aO_amtgApw4y",
        "colab_type": "code",
        "colab": {
          "base_uri": "https://localhost:8080/",
          "height": 35
        },
        "outputId": "6796fe35-799e-46e8-ae6c-5e12727bbc05"
      },
      "source": [
        "%tensorflow_version 2.x\n",
        "import tensorflow as tf\n",
        "device_name = tf.test.gpu_device_name()\n",
        "if device_name != '/device:GPU:0':\n",
        "  raise SystemError('GPU device not found')\n",
        "print('Found GPU at: {}'.format(device_name))"
      ],
      "execution_count": null,
      "outputs": [
        {
          "output_type": "stream",
          "text": [
            "Found GPU at: /device:GPU:0\n"
          ],
          "name": "stdout"
        }
      ]
    },
    {
      "cell_type": "code",
      "metadata": {
        "id": "nGtCDxw0p8O2",
        "colab_type": "code",
        "colab": {}
      },
      "source": [
        "from tensorflow import keras\n",
        "from keras.datasets import cifar100\n",
        "(X_train, y_train), (X_test, y_test) = cifar100.load_data(label_mode='fine')"
      ],
      "execution_count": null,
      "outputs": []
    },
    {
      "cell_type": "code",
      "metadata": {
        "id": "KLprqzVwp8RV",
        "colab_type": "code",
        "colab": {
          "base_uri": "https://localhost:8080/",
          "height": 35
        },
        "outputId": "1b2b4243-e3e6-481b-9b54-3d408dd43218"
      },
      "source": [
        "X_train.shape, X_test.shape"
      ],
      "execution_count": null,
      "outputs": [
        {
          "output_type": "execute_result",
          "data": {
            "text/plain": [
              "((50000, 32, 32, 3), (10000, 32, 32, 3))"
            ]
          },
          "metadata": {
            "tags": []
          },
          "execution_count": 87
        }
      ]
    },
    {
      "cell_type": "markdown",
      "metadata": {
        "id": "xf_pqKLWqYaI",
        "colab_type": "text"
      },
      "source": [
        "### 데이터 확인"
      ]
    },
    {
      "cell_type": "code",
      "metadata": {
        "id": "agJMEIgZp8T9",
        "colab_type": "code",
        "colab": {}
      },
      "source": [
        "CIFAR100_LABELS_LIST = [\n",
        "    'apple', 'aquarium_fish', 'baby', 'bear', 'beaver', 'bed', 'bee', 'beetle', \n",
        "    'bicycle', 'bottle', 'bowl', 'boy', 'bridge', 'bus', 'butterfly', 'camel', \n",
        "    'can', 'castle', 'caterpillar', 'cattle', 'chair', 'chimpanzee', 'clock', \n",
        "    'cloud', 'cockroach', 'couch', 'crab', 'crocodile', 'cup', 'dinosaur', \n",
        "    'dolphin', 'elephant', 'flatfish', 'forest', 'fox', 'girl', 'hamster', \n",
        "    'house', 'kangaroo', 'keyboard', 'lamp', 'lawn_mower', 'leopard', 'lion',\n",
        "    'lizard', 'lobster', 'man', 'maple_tree', 'motorcycle', 'mountain', 'mouse',\n",
        "    'mushroom', 'oak_tree', 'orange', 'orchid', 'otter', 'palm_tree', 'pear',\n",
        "    'pickup_truck', 'pine_tree', 'plain', 'plate', 'poppy', 'porcupine',\n",
        "    'possum', 'rabbit', 'raccoon', 'ray', 'road', 'rocket', 'rose',\n",
        "    'sea', 'seal', 'shark', 'shrew', 'skunk', 'skyscraper', 'snail', 'snake',\n",
        "    'spider', 'squirrel', 'streetcar', 'sunflower', 'sweet_pepper', 'table',\n",
        "    'tank', 'telephone', 'television', 'tiger', 'tractor', 'train', 'trout',\n",
        "    'tulip', 'turtle', 'wardrobe', 'whale', 'willow_tree', 'wolf', 'woman',\n",
        "    'worm'\n",
        "]"
      ],
      "execution_count": null,
      "outputs": []
    },
    {
      "cell_type": "code",
      "metadata": {
        "id": "urpIr3O0p8WV",
        "colab_type": "code",
        "colab": {
          "base_uri": "https://localhost:8080/",
          "height": 124
        },
        "outputId": "573e31b0-2fe1-47f5-f9fc-14943496e2b8"
      },
      "source": [
        "import matplotlib.pyplot as plt\n",
        "%matplotlib inline\n",
        "\n",
        "plt.subplot(141)\n",
        "plt.imshow(X_train[0], interpolation=\"bicubic\")\n",
        "plt.grid(False)\n",
        "plt.subplot(142)\n",
        "plt.imshow(X_train[4], interpolation=\"bicubic\")\n",
        "plt.grid(False)\n",
        "plt.subplot(143)\n",
        "plt.imshow(X_train[8], interpolation=\"bicubic\")\n",
        "plt.grid(False)\n",
        "plt.subplot(144)\n",
        "plt.imshow(X_train[12], interpolation=\"bicubic\")\n",
        "plt.grid(False)\n",
        "plt.show()"
      ],
      "execution_count": null,
      "outputs": [
        {
          "output_type": "display_data",
          "data": {
            "image/png": "[encoded data removed]",
            "text/plain": [
              "<Figure size 432x288 with 4 Axes>"
            ]
          },
          "metadata": {
            "tags": [],
            "needs_background": "light"
          }
        }
      ]
    },
    {
      "cell_type": "code",
      "metadata": {
        "id": "K2mq0aiRqhAu",
        "colab_type": "code",
        "colab": {
          "base_uri": "https://localhost:8080/",
          "height": 35
        },
        "outputId": "27ff559d-2e35-4029-a802-036c97adb6b2"
      },
      "source": [
        "CIFAR100_LABELS_LIST[y_train[0][0]], CIFAR100_LABELS_LIST[y_train[4][0]], \\\n",
        "CIFAR100_LABELS_LIST[y_train[8][0]], CIFAR100_LABELS_LIST[y_train[12][0]]"
      ],
      "execution_count": null,
      "outputs": [
        {
          "output_type": "execute_result",
          "data": {
            "text/plain": [
              "('cattle', 'aquarium_fish', 'cloud', 'sunflower')"
            ]
          },
          "metadata": {
            "tags": []
          },
          "execution_count": 90
        }
      ]
    },
    {
      "cell_type": "markdown",
      "metadata": {
        "id": "ZKzJAtObq7j2",
        "colab_type": "text"
      },
      "source": [
        "#### 자료형 변환 및 스케일링\n",
        "- X: 실수형으로 정규화\n",
        "- Y: 1-hot encoding"
      ]
    },
    {
      "cell_type": "code",
      "metadata": {
        "id": "y6EUUKaZp8Yt",
        "colab_type": "code",
        "colab": {
          "base_uri": "https://localhost:8080/",
          "height": 35
        },
        "outputId": "36203339-7984-420d-88b6-75e3bb41eb32"
      },
      "source": [
        "X_train = X_train.astype('float32')/255.0\n",
        "X_test = X_test.astype('float32')/255.0\n",
        "\n",
        "print(X_train.shape, X_train.dtype)"
      ],
      "execution_count": null,
      "outputs": [
        {
          "output_type": "stream",
          "text": [
            "(50000, 32, 32, 3) float32\n"
          ],
          "name": "stdout"
        }
      ]
    },
    {
      "cell_type": "code",
      "metadata": {
        "id": "yQLhukCAp8g8",
        "colab_type": "code",
        "colab": {
          "base_uri": "https://localhost:8080/",
          "height": 269
        },
        "outputId": "d8af9fb1-b722-48a5-eb2c-6ea3a1f7f548"
      },
      "source": [
        "Y_train = tf.keras.utils.to_categorical(y_train, 100)\n",
        "Y_test = tf.keras.utils.to_categorical(y_test, 100)\n",
        "Y_train[:2]"
      ],
      "execution_count": null,
      "outputs": [
        {
          "output_type": "execute_result",
          "data": {
            "text/plain": [
              "array([[0., 0., 0., 0., 0., 0., 0., 0., 0., 0., 0., 0., 0., 0., 0., 0.,\n",
              "        0., 0., 0., 1., 0., 0., 0., 0., 0., 0., 0., 0., 0., 0., 0., 0.,\n",
              "        0., 0., 0., 0., 0., 0., 0., 0., 0., 0., 0., 0., 0., 0., 0., 0.,\n",
              "        0., 0., 0., 0., 0., 0., 0., 0., 0., 0., 0., 0., 0., 0., 0., 0.,\n",
              "        0., 0., 0., 0., 0., 0., 0., 0., 0., 0., 0., 0., 0., 0., 0., 0.,\n",
              "        0., 0., 0., 0., 0., 0., 0., 0., 0., 0., 0., 0., 0., 0., 0., 0.,\n",
              "        0., 0., 0., 0.],\n",
              "       [0., 0., 0., 0., 0., 0., 0., 0., 0., 0., 0., 0., 0., 0., 0., 0.,\n",
              "        0., 0., 0., 0., 0., 0., 0., 0., 0., 0., 0., 0., 0., 1., 0., 0.,\n",
              "        0., 0., 0., 0., 0., 0., 0., 0., 0., 0., 0., 0., 0., 0., 0., 0.,\n",
              "        0., 0., 0., 0., 0., 0., 0., 0., 0., 0., 0., 0., 0., 0., 0., 0.,\n",
              "        0., 0., 0., 0., 0., 0., 0., 0., 0., 0., 0., 0., 0., 0., 0., 0.,\n",
              "        0., 0., 0., 0., 0., 0., 0., 0., 0., 0., 0., 0., 0., 0., 0., 0.,\n",
              "        0., 0., 0., 0.]], dtype=float32)"
            ]
          },
          "metadata": {
            "tags": []
          },
          "execution_count": 92
        }
      ]
    },
    {
      "cell_type": "markdown",
      "metadata": {
        "id": "N9lsmrK4rP4N",
        "colab_type": "text"
      },
      "source": [
        "### 모형구현"
      ]
    },
    {
      "cell_type": "code",
      "metadata": {
        "id": "-iwk4bDwp8jT",
        "colab_type": "code",
        "colab": {}
      },
      "source": [
        "from keras.models import Sequential\n",
        "from keras.layers import Conv2D, MaxPooling2D, Flatten, Dense, Dropout\n",
        "from keras.layers import Activation\n",
        "from keras.callbacks import ModelCheckpoint, EarlyStopping"
      ],
      "execution_count": null,
      "outputs": []
    },
    {
      "cell_type": "code",
      "metadata": {
        "id": "t2K7bIChp8ll",
        "colab_type": "code",
        "colab": {
          "base_uri": "https://localhost:8080/",
          "height": 845
        },
        "outputId": "f81fa849-9a1e-4d4e-d53e-a0098f1ba450"
      },
      "source": [
        "model = Sequential()\n",
        "\n",
        "# Input Layer\n",
        "model.add(Conv2D(32, (3,3), padding='same', input_shape = X_train.shape[1:]))\n",
        "model.add(Activation('relu'))\n",
        "# MAXPOOL Layer 1\n",
        "model.add(MaxPooling2D(pool_size=(2, 2)))\n",
        "model.add(Activation('relu'))\n",
        "# CONV2D Layer 2\n",
        "model.add(Conv2D(64, (3,3), padding='same'))\n",
        "model.add(Activation('relu'))\n",
        "# MAXPOOL Layer 2\n",
        "model.add(MaxPooling2D(pool_size=(2, 2)))\n",
        "model.add(Activation('relu'))\n",
        "# Add a dropout of 10%\n",
        "model.add(Dropout(0.1))\n",
        "# CONV2D Layer 3\n",
        "model.add(Conv2D(128, (3,3), padding='same'))\n",
        "model.add(Activation('relu'))\n",
        "# MAXPOOL Layer 3\n",
        "model.add(MaxPooling2D(pool_size=(2,2)))\n",
        "# Add dropout of 25%\n",
        "model.add(Dropout(0.25))\n",
        "# flatten \n",
        "model.add(Flatten())\n",
        "# Fully Connected Layer 1\n",
        "model.add(Dense(512))\n",
        "model.add(Activation('relu'))\n",
        "# Adding a dropout of 50%\n",
        "model.add(Dropout(0.5))\n",
        "# Output Layer (Fully Connected Layer 2) \n",
        "model.add(Dense(100))\n",
        "model.add(Activation('softmax'))\n",
        "          \n",
        "model.summary()"
      ],
      "execution_count": null,
      "outputs": [
        {
          "output_type": "stream",
          "text": [
            "Model: \"sequential_4\"\n",
            "_________________________________________________________________\n",
            "Layer (type)                 Output Shape              Param #   \n",
            "=================================================================\n",
            "conv2d_10 (Conv2D)           (None, 32, 32, 32)        896       \n",
            "_________________________________________________________________\n",
            "activation_22 (Activation)   (None, 32, 32, 32)        0         \n",
            "_________________________________________________________________\n",
            "max_pooling2d_10 (MaxPooling (None, 16, 16, 32)        0         \n",
            "_________________________________________________________________\n",
            "activation_23 (Activation)   (None, 16, 16, 32)        0         \n",
            "_________________________________________________________________\n",
            "conv2d_11 (Conv2D)           (None, 16, 16, 64)        18496     \n",
            "_________________________________________________________________\n",
            "activation_24 (Activation)   (None, 16, 16, 64)        0         \n",
            "_________________________________________________________________\n",
            "max_pooling2d_11 (MaxPooling (None, 8, 8, 64)          0         \n",
            "_________________________________________________________________\n",
            "activation_25 (Activation)   (None, 8, 8, 64)          0         \n",
            "_________________________________________________________________\n",
            "dropout_10 (Dropout)         (None, 8, 8, 64)          0         \n",
            "_________________________________________________________________\n",
            "conv2d_12 (Conv2D)           (None, 8, 8, 128)         73856     \n",
            "_________________________________________________________________\n",
            "activation_26 (Activation)   (None, 8, 8, 128)         0         \n",
            "_________________________________________________________________\n",
            "max_pooling2d_12 (MaxPooling (None, 4, 4, 128)         0         \n",
            "_________________________________________________________________\n",
            "dropout_11 (Dropout)         (None, 4, 4, 128)         0         \n",
            "_________________________________________________________________\n",
            "flatten_4 (Flatten)          (None, 2048)              0         \n",
            "_________________________________________________________________\n",
            "dense_7 (Dense)              (None, 512)               1049088   \n",
            "_________________________________________________________________\n",
            "activation_27 (Activation)   (None, 512)               0         \n",
            "_________________________________________________________________\n",
            "dropout_12 (Dropout)         (None, 512)               0         \n",
            "_________________________________________________________________\n",
            "dense_8 (Dense)              (None, 100)               51300     \n",
            "_________________________________________________________________\n",
            "activation_28 (Activation)   (None, 100)               0         \n",
            "=================================================================\n",
            "Total params: 1,193,636\n",
            "Trainable params: 1,193,636\n",
            "Non-trainable params: 0\n",
            "_________________________________________________________________\n"
          ],
          "name": "stdout"
        }
      ]
    },
    {
      "cell_type": "code",
      "metadata": {
        "id": "Dx7RgVQ_rcqu",
        "colab_type": "code",
        "colab": {}
      },
      "source": [
        "opt = tf.keras.optimizers.Adam(lr=0.0001)\n",
        "model.compile(loss='categorical_crossentropy', optimizer=opt, metrics=['accuracy'])"
      ],
      "execution_count": null,
      "outputs": []
    },
    {
      "cell_type": "code",
      "metadata": {
        "id": "P7BC3_b-ycnI",
        "colab_type": "code",
        "colab": {}
      },
      "source": [
        "# callback 선언\n",
        "modelpath = MODEL_DIR + \"cifa-100-{epoch:02d}-{val_loss:.4f}.hdf5\"\n",
        "checkpointer = ModelCheckpoint(filepath = modelpath, monitor = 'val_loss',\n",
        "                              verbose = 1, save_best_only = True)\n",
        "early_stopping_callback = EarlyStopping(monitor = 'val_loss',\n",
        "                                       patience = 20)"
      ],
      "execution_count": null,
      "outputs": []
    },
    {
      "cell_type": "code",
      "metadata": {
        "id": "-ueCAQpdrctu",
        "colab_type": "code",
        "colab": {
          "base_uri": "https://localhost:8080/",
          "height": 1000
        },
        "outputId": "df0133b5-da6c-4df8-d133-b85d6794dd4f"
      },
      "source": [
        "history = model.fit(X_train, Y_train, epochs=300, batch_size=50,\n",
        "                    validation_data=(X_test, Y_test), verbose=1,\n",
        "                    callbacks=[checkpointer, early_stopping_callback])"
      ],
      "execution_count": null,
      "outputs": [
        {
          "output_type": "stream",
          "text": [
            "Train on 50000 samples, validate on 10000 samples\n",
            "Epoch 1/300\n",
            "50000/50000 [==============================] - 6s 121us/step - loss: 4.3462 - accuracy: 0.0427 - val_loss: 3.9300 - val_accuracy: 0.1132\n",
            "\n",
            "Epoch 00001: val_loss improved from inf to 3.93001, saving model to ./model/cifa-100-01-3.9300.hdf5\n",
            "Epoch 2/300\n",
            " 1650/50000 [..............................] - ETA: 4s - loss: 4.0140 - accuracy: 0.0818"
          ],
          "name": "stdout"
        },
        {
          "output_type": "stream",
          "text": [
            "/usr/local/lib/python3.6/dist-packages/keras/engine/saving.py:165: UserWarning: TensorFlow optimizers do not make it possible to access optimizer attributes or optimizer state after instantiation. As a result, we cannot save the optimizer as part of the model save file.You will have to compile your model again after loading it. Prefer using a Keras optimizer instead (see keras.io/optimizers).\n",
            "  'TensorFlow optimizers do not '\n"
          ],
          "name": "stderr"
        },
        {
          "output_type": "stream",
          "text": [
            "50000/50000 [==============================] - 6s 114us/step - loss: 3.8657 - accuracy: 0.1108 - val_loss: 3.5745 - val_accuracy: 0.1759\n",
            "\n",
            "Epoch 00002: val_loss improved from 3.93001 to 3.57453, saving model to ./model/cifa-100-02-3.5745.hdf5\n",
            "Epoch 3/300\n",
            "50000/50000 [==============================] - 6s 113us/step - loss: 3.6293 - accuracy: 0.1477 - val_loss: 3.4112 - val_accuracy: 0.2069\n",
            "\n",
            "Epoch 00003: val_loss improved from 3.57453 to 3.41117, saving model to ./model/cifa-100-03-3.4112.hdf5\n",
            "Epoch 4/300\n",
            "50000/50000 [==============================] - 6s 111us/step - loss: 3.4673 - accuracy: 0.1774 - val_loss: 3.2475 - val_accuracy: 0.2360\n",
            "\n",
            "Epoch 00004: val_loss improved from 3.41117 to 3.24752, saving model to ./model/cifa-100-04-3.2475.hdf5\n",
            "Epoch 5/300\n",
            "50000/50000 [==============================] - 6s 117us/step - loss: 3.3454 - accuracy: 0.1997 - val_loss: 3.1262 - val_accuracy: 0.2529\n",
            "\n",
            "Epoch 00005: val_loss improved from 3.24752 to 3.12625, saving model to ./model/cifa-100-05-3.1262.hdf5\n",
            "Epoch 6/300\n",
            "50000/50000 [==============================] - 6s 121us/step - loss: 3.2347 - accuracy: 0.2178 - val_loss: 3.0388 - val_accuracy: 0.2716\n",
            "\n",
            "Epoch 00006: val_loss improved from 3.12625 to 3.03881, saving model to ./model/cifa-100-06-3.0388.hdf5\n",
            "Epoch 7/300\n",
            "50000/50000 [==============================] - 6s 114us/step - loss: 3.1411 - accuracy: 0.2334 - val_loss: 2.9752 - val_accuracy: 0.2849\n",
            "\n",
            "Epoch 00007: val_loss improved from 3.03881 to 2.97525, saving model to ./model/cifa-100-07-2.9752.hdf5\n",
            "Epoch 8/300\n",
            "50000/50000 [==============================] - 6s 111us/step - loss: 3.0651 - accuracy: 0.2490 - val_loss: 2.8766 - val_accuracy: 0.3034\n",
            "\n",
            "Epoch 00008: val_loss improved from 2.97525 to 2.87658, saving model to ./model/cifa-100-08-2.8766.hdf5\n",
            "Epoch 9/300\n",
            "50000/50000 [==============================] - 6s 111us/step - loss: 2.9823 - accuracy: 0.2660 - val_loss: 2.8204 - val_accuracy: 0.3129\n",
            "\n",
            "Epoch 00009: val_loss improved from 2.87658 to 2.82039, saving model to ./model/cifa-100-09-2.8204.hdf5\n",
            "Epoch 10/300\n",
            "50000/50000 [==============================] - 6s 112us/step - loss: 2.9269 - accuracy: 0.2737 - val_loss: 2.7652 - val_accuracy: 0.3193\n",
            "\n",
            "Epoch 00010: val_loss improved from 2.82039 to 2.76524, saving model to ./model/cifa-100-10-2.7652.hdf5\n",
            "Epoch 11/300\n",
            "50000/50000 [==============================] - 6s 111us/step - loss: 2.8676 - accuracy: 0.2869 - val_loss: 2.7150 - val_accuracy: 0.3285\n",
            "\n",
            "Epoch 00011: val_loss improved from 2.76524 to 2.71504, saving model to ./model/cifa-100-11-2.7150.hdf5\n",
            "Epoch 12/300\n",
            "50000/50000 [==============================] - 6s 112us/step - loss: 2.8137 - accuracy: 0.2986 - val_loss: 2.6637 - val_accuracy: 0.3425\n",
            "\n",
            "Epoch 00012: val_loss improved from 2.71504 to 2.66372, saving model to ./model/cifa-100-12-2.6637.hdf5\n",
            "Epoch 13/300\n",
            "50000/50000 [==============================] - 6s 112us/step - loss: 2.7603 - accuracy: 0.3108 - val_loss: 2.6231 - val_accuracy: 0.3478\n",
            "\n",
            "Epoch 00013: val_loss improved from 2.66372 to 2.62315, saving model to ./model/cifa-100-13-2.6231.hdf5\n",
            "Epoch 14/300\n",
            "50000/50000 [==============================] - 6s 113us/step - loss: 2.7183 - accuracy: 0.3180 - val_loss: 2.5963 - val_accuracy: 0.3589\n",
            "\n",
            "Epoch 00014: val_loss improved from 2.62315 to 2.59632, saving model to ./model/cifa-100-14-2.5963.hdf5\n",
            "Epoch 15/300\n",
            "50000/50000 [==============================] - 6s 112us/step - loss: 2.6702 - accuracy: 0.3265 - val_loss: 2.5494 - val_accuracy: 0.3661\n",
            "\n",
            "Epoch 00015: val_loss improved from 2.59632 to 2.54942, saving model to ./model/cifa-100-15-2.5494.hdf5\n",
            "Epoch 16/300\n",
            "50000/50000 [==============================] - 6s 112us/step - loss: 2.6256 - accuracy: 0.3361 - val_loss: 2.5434 - val_accuracy: 0.3676\n",
            "\n",
            "Epoch 00016: val_loss improved from 2.54942 to 2.54335, saving model to ./model/cifa-100-16-2.5434.hdf5\n",
            "Epoch 17/300\n",
            "50000/50000 [==============================] - 6s 111us/step - loss: 2.5805 - accuracy: 0.3451 - val_loss: 2.5062 - val_accuracy: 0.3718\n",
            "\n",
            "Epoch 00017: val_loss improved from 2.54335 to 2.50617, saving model to ./model/cifa-100-17-2.5062.hdf5\n",
            "Epoch 18/300\n",
            "50000/50000 [==============================] - 6s 111us/step - loss: 2.5447 - accuracy: 0.3533 - val_loss: 2.4625 - val_accuracy: 0.3793\n",
            "\n",
            "Epoch 00018: val_loss improved from 2.50617 to 2.46253, saving model to ./model/cifa-100-18-2.4625.hdf5\n",
            "Epoch 19/300\n",
            "50000/50000 [==============================] - 6s 112us/step - loss: 2.5040 - accuracy: 0.3595 - val_loss: 2.4447 - val_accuracy: 0.3854\n",
            "\n",
            "Epoch 00019: val_loss improved from 2.46253 to 2.44465, saving model to ./model/cifa-100-19-2.4447.hdf5\n",
            "Epoch 20/300\n",
            "50000/50000 [==============================] - 6s 112us/step - loss: 2.4683 - accuracy: 0.3685 - val_loss: 2.3998 - val_accuracy: 0.3925\n",
            "\n",
            "Epoch 00020: val_loss improved from 2.44465 to 2.39980, saving model to ./model/cifa-100-20-2.3998.hdf5\n",
            "Epoch 21/300\n",
            "50000/50000 [==============================] - 6s 115us/step - loss: 2.4388 - accuracy: 0.3765 - val_loss: 2.3805 - val_accuracy: 0.3968\n",
            "\n",
            "Epoch 00021: val_loss improved from 2.39980 to 2.38046, saving model to ./model/cifa-100-21-2.3805.hdf5\n",
            "Epoch 22/300\n",
            "50000/50000 [==============================] - 6s 112us/step - loss: 2.4025 - accuracy: 0.3793 - val_loss: 2.3686 - val_accuracy: 0.4002\n",
            "\n",
            "Epoch 00022: val_loss improved from 2.38046 to 2.36864, saving model to ./model/cifa-100-22-2.3686.hdf5\n",
            "Epoch 23/300\n",
            "50000/50000 [==============================] - 6s 111us/step - loss: 2.3744 - accuracy: 0.3881 - val_loss: 2.3431 - val_accuracy: 0.4081\n",
            "\n",
            "Epoch 00023: val_loss improved from 2.36864 to 2.34306, saving model to ./model/cifa-100-23-2.3431.hdf5\n",
            "Epoch 24/300\n",
            "50000/50000 [==============================] - 6s 112us/step - loss: 2.3421 - accuracy: 0.3950 - val_loss: 2.3091 - val_accuracy: 0.4112\n",
            "\n",
            "Epoch 00024: val_loss improved from 2.34306 to 2.30912, saving model to ./model/cifa-100-24-2.3091.hdf5\n",
            "Epoch 25/300\n",
            "50000/50000 [==============================] - 6s 112us/step - loss: 2.3089 - accuracy: 0.4018 - val_loss: 2.2989 - val_accuracy: 0.4129\n",
            "\n",
            "Epoch 00025: val_loss improved from 2.30912 to 2.29887, saving model to ./model/cifa-100-25-2.2989.hdf5\n",
            "Epoch 26/300\n",
            "50000/50000 [==============================] - 6s 114us/step - loss: 2.2803 - accuracy: 0.4067 - val_loss: 2.2783 - val_accuracy: 0.4220\n",
            "\n",
            "Epoch 00026: val_loss improved from 2.29887 to 2.27828, saving model to ./model/cifa-100-26-2.2783.hdf5\n",
            "Epoch 27/300\n",
            "50000/50000 [==============================] - 6s 113us/step - loss: 2.2466 - accuracy: 0.4164 - val_loss: 2.2623 - val_accuracy: 0.4226\n",
            "\n",
            "Epoch 00027: val_loss improved from 2.27828 to 2.26232, saving model to ./model/cifa-100-27-2.2623.hdf5\n",
            "Epoch 28/300\n",
            "50000/50000 [==============================] - 6s 114us/step - loss: 2.2233 - accuracy: 0.4190 - val_loss: 2.2385 - val_accuracy: 0.4271\n",
            "\n",
            "Epoch 00028: val_loss improved from 2.26232 to 2.23853, saving model to ./model/cifa-100-28-2.2385.hdf5\n",
            "Epoch 29/300\n",
            "50000/50000 [==============================] - 6s 113us/step - loss: 2.1994 - accuracy: 0.4237 - val_loss: 2.2335 - val_accuracy: 0.4323\n",
            "\n",
            "Epoch 00029: val_loss improved from 2.23853 to 2.23347, saving model to ./model/cifa-100-29-2.2335.hdf5\n",
            "Epoch 30/300\n",
            "50000/50000 [==============================] - 6s 112us/step - loss: 2.1746 - accuracy: 0.4307 - val_loss: 2.2268 - val_accuracy: 0.4317\n",
            "\n",
            "Epoch 00030: val_loss improved from 2.23347 to 2.22676, saving model to ./model/cifa-100-30-2.2268.hdf5\n",
            "Epoch 31/300\n",
            "50000/50000 [==============================] - 6s 111us/step - loss: 2.1429 - accuracy: 0.4352 - val_loss: 2.2104 - val_accuracy: 0.4370\n",
            "\n",
            "Epoch 00031: val_loss improved from 2.22676 to 2.21037, saving model to ./model/cifa-100-31-2.2104.hdf5\n",
            "Epoch 32/300\n",
            "50000/50000 [==============================] - 6s 111us/step - loss: 2.1278 - accuracy: 0.4401 - val_loss: 2.2150 - val_accuracy: 0.4366\n",
            "\n",
            "Epoch 00032: val_loss did not improve from 2.21037\n",
            "Epoch 33/300\n",
            "50000/50000 [==============================] - 6s 111us/step - loss: 2.1009 - accuracy: 0.4433 - val_loss: 2.1742 - val_accuracy: 0.4454\n",
            "\n",
            "Epoch 00033: val_loss improved from 2.21037 to 2.17417, saving model to ./model/cifa-100-33-2.1742.hdf5\n",
            "Epoch 34/300\n",
            "50000/50000 [==============================] - 6s 111us/step - loss: 2.0719 - accuracy: 0.4526 - val_loss: 2.1765 - val_accuracy: 0.4425\n",
            "\n",
            "Epoch 00034: val_loss did not improve from 2.17417\n",
            "Epoch 35/300\n",
            "50000/50000 [==============================] - 6s 111us/step - loss: 2.0477 - accuracy: 0.4577 - val_loss: 2.1517 - val_accuracy: 0.4507\n",
            "\n",
            "Epoch 00035: val_loss improved from 2.17417 to 2.15169, saving model to ./model/cifa-100-35-2.1517.hdf5\n",
            "Epoch 36/300\n",
            "50000/50000 [==============================] - 6s 111us/step - loss: 2.0250 - accuracy: 0.4625 - val_loss: 2.1573 - val_accuracy: 0.4500\n",
            "\n",
            "Epoch 00036: val_loss did not improve from 2.15169\n",
            "Epoch 37/300\n",
            "50000/50000 [==============================] - 6s 111us/step - loss: 2.0079 - accuracy: 0.4639 - val_loss: 2.1447 - val_accuracy: 0.4501\n",
            "\n",
            "Epoch 00037: val_loss improved from 2.15169 to 2.14471, saving model to ./model/cifa-100-37-2.1447.hdf5\n",
            "Epoch 38/300\n",
            "50000/50000 [==============================] - 6s 110us/step - loss: 1.9766 - accuracy: 0.4716 - val_loss: 2.1424 - val_accuracy: 0.4482\n",
            "\n",
            "Epoch 00038: val_loss improved from 2.14471 to 2.14240, saving model to ./model/cifa-100-38-2.1424.hdf5\n",
            "Epoch 39/300\n",
            "50000/50000 [==============================] - 6s 112us/step - loss: 1.9567 - accuracy: 0.4752 - val_loss: 2.1193 - val_accuracy: 0.4564\n",
            "\n",
            "Epoch 00039: val_loss improved from 2.14240 to 2.11928, saving model to ./model/cifa-100-39-2.1193.hdf5\n",
            "Epoch 40/300\n",
            "50000/50000 [==============================] - 6s 114us/step - loss: 1.9372 - accuracy: 0.4813 - val_loss: 2.1233 - val_accuracy: 0.4568\n",
            "\n",
            "Epoch 00040: val_loss did not improve from 2.11928\n",
            "Epoch 41/300\n",
            "50000/50000 [==============================] - 6s 114us/step - loss: 1.9187 - accuracy: 0.4863 - val_loss: 2.1080 - val_accuracy: 0.4575\n",
            "\n",
            "Epoch 00041: val_loss improved from 2.11928 to 2.10801, saving model to ./model/cifa-100-41-2.1080.hdf5\n",
            "Epoch 42/300\n",
            "50000/50000 [==============================] - 6s 114us/step - loss: 1.9004 - accuracy: 0.4861 - val_loss: 2.0968 - val_accuracy: 0.4596\n",
            "\n",
            "Epoch 00042: val_loss improved from 2.10801 to 2.09676, saving model to ./model/cifa-100-42-2.0968.hdf5\n",
            "Epoch 43/300\n",
            "50000/50000 [==============================] - 6s 114us/step - loss: 1.8795 - accuracy: 0.4945 - val_loss: 2.0916 - val_accuracy: 0.4632\n",
            "\n",
            "Epoch 00043: val_loss improved from 2.09676 to 2.09157, saving model to ./model/cifa-100-43-2.0916.hdf5\n",
            "Epoch 44/300\n",
            "50000/50000 [==============================] - 6s 113us/step - loss: 1.8528 - accuracy: 0.4988 - val_loss: 2.0943 - val_accuracy: 0.4615\n",
            "\n",
            "Epoch 00044: val_loss did not improve from 2.09157\n",
            "Epoch 45/300\n",
            "50000/50000 [==============================] - 6s 112us/step - loss: 1.8368 - accuracy: 0.5021 - val_loss: 2.0991 - val_accuracy: 0.4585\n",
            "\n",
            "Epoch 00045: val_loss did not improve from 2.09157\n",
            "Epoch 46/300\n",
            "50000/50000 [==============================] - 6s 112us/step - loss: 1.8146 - accuracy: 0.5079 - val_loss: 2.0871 - val_accuracy: 0.4646\n",
            "\n",
            "Epoch 00046: val_loss improved from 2.09157 to 2.08707, saving model to ./model/cifa-100-46-2.0871.hdf5\n",
            "Epoch 47/300\n",
            "50000/50000 [==============================] - 6s 112us/step - loss: 1.8025 - accuracy: 0.5099 - val_loss: 2.0860 - val_accuracy: 0.4625\n",
            "\n",
            "Epoch 00047: val_loss improved from 2.08707 to 2.08601, saving model to ./model/cifa-100-47-2.0860.hdf5\n",
            "Epoch 48/300\n",
            "50000/50000 [==============================] - 6s 112us/step - loss: 1.7832 - accuracy: 0.5132 - val_loss: 2.0763 - val_accuracy: 0.4652\n",
            "\n",
            "Epoch 00048: val_loss improved from 2.08601 to 2.07632, saving model to ./model/cifa-100-48-2.0763.hdf5\n",
            "Epoch 49/300\n",
            "50000/50000 [==============================] - 6s 112us/step - loss: 1.7646 - accuracy: 0.5177 - val_loss: 2.0572 - val_accuracy: 0.4742\n",
            "\n",
            "Epoch 00049: val_loss improved from 2.07632 to 2.05721, saving model to ./model/cifa-100-49-2.0572.hdf5\n",
            "Epoch 50/300\n",
            "50000/50000 [==============================] - 6s 113us/step - loss: 1.7414 - accuracy: 0.5247 - val_loss: 2.0509 - val_accuracy: 0.4740\n",
            "\n",
            "Epoch 00050: val_loss improved from 2.05721 to 2.05091, saving model to ./model/cifa-100-50-2.0509.hdf5\n",
            "Epoch 51/300\n",
            "50000/50000 [==============================] - 6s 113us/step - loss: 1.7236 - accuracy: 0.5249 - val_loss: 2.0489 - val_accuracy: 0.4749\n",
            "\n",
            "Epoch 00051: val_loss improved from 2.05091 to 2.04892, saving model to ./model/cifa-100-51-2.0489.hdf5\n",
            "Epoch 52/300\n",
            "50000/50000 [==============================] - 6s 113us/step - loss: 1.7070 - accuracy: 0.5305 - val_loss: 2.0466 - val_accuracy: 0.4668\n",
            "\n",
            "Epoch 00052: val_loss improved from 2.04892 to 2.04657, saving model to ./model/cifa-100-52-2.0466.hdf5\n",
            "Epoch 53/300\n",
            "50000/50000 [==============================] - 6s 113us/step - loss: 1.6908 - accuracy: 0.5340 - val_loss: 2.0492 - val_accuracy: 0.4732\n",
            "\n",
            "Epoch 00053: val_loss did not improve from 2.04657\n",
            "Epoch 54/300\n",
            "50000/50000 [==============================] - 6s 113us/step - loss: 1.6716 - accuracy: 0.5354 - val_loss: 2.0339 - val_accuracy: 0.4779\n",
            "\n",
            "Epoch 00054: val_loss improved from 2.04657 to 2.03389, saving model to ./model/cifa-100-54-2.0339.hdf5\n",
            "Epoch 55/300\n",
            "50000/50000 [==============================] - 6s 112us/step - loss: 1.6598 - accuracy: 0.5401 - val_loss: 2.0498 - val_accuracy: 0.4725\n",
            "\n",
            "Epoch 00055: val_loss did not improve from 2.03389\n",
            "Epoch 56/300\n",
            "50000/50000 [==============================] - 6s 114us/step - loss: 1.6389 - accuracy: 0.5461 - val_loss: 2.0350 - val_accuracy: 0.4773\n",
            "\n",
            "Epoch 00056: val_loss did not improve from 2.03389\n",
            "Epoch 57/300\n",
            "50000/50000 [==============================] - 6s 114us/step - loss: 1.6259 - accuracy: 0.5486 - val_loss: 2.0300 - val_accuracy: 0.4780\n",
            "\n",
            "Epoch 00057: val_loss improved from 2.03389 to 2.02996, saving model to ./model/cifa-100-57-2.0300.hdf5\n",
            "Epoch 58/300\n",
            "50000/50000 [==============================] - 6s 114us/step - loss: 1.6098 - accuracy: 0.5526 - val_loss: 2.0198 - val_accuracy: 0.4800\n",
            "\n",
            "Epoch 00058: val_loss improved from 2.02996 to 2.01979, saving model to ./model/cifa-100-58-2.0198.hdf5\n",
            "Epoch 59/300\n",
            "50000/50000 [==============================] - 6s 112us/step - loss: 1.5923 - accuracy: 0.5566 - val_loss: 2.0333 - val_accuracy: 0.4804\n",
            "\n",
            "Epoch 00059: val_loss did not improve from 2.01979\n",
            "Epoch 60/300\n",
            "50000/50000 [==============================] - 6s 117us/step - loss: 1.5821 - accuracy: 0.5585 - val_loss: 2.0207 - val_accuracy: 0.4829\n",
            "\n",
            "Epoch 00060: val_loss did not improve from 2.01979\n",
            "Epoch 61/300\n",
            "50000/50000 [==============================] - 6s 122us/step - loss: 1.5636 - accuracy: 0.5606 - val_loss: 2.0143 - val_accuracy: 0.4820\n",
            "\n",
            "Epoch 00061: val_loss improved from 2.01979 to 2.01429, saving model to ./model/cifa-100-61-2.0143.hdf5\n",
            "Epoch 62/300\n",
            "50000/50000 [==============================] - 6s 115us/step - loss: 1.5523 - accuracy: 0.5648 - val_loss: 2.0140 - val_accuracy: 0.4790\n",
            "\n",
            "Epoch 00062: val_loss improved from 2.01429 to 2.01400, saving model to ./model/cifa-100-62-2.0140.hdf5\n",
            "Epoch 63/300\n",
            "50000/50000 [==============================] - 6s 112us/step - loss: 1.5384 - accuracy: 0.5683 - val_loss: 2.0262 - val_accuracy: 0.4815\n",
            "\n",
            "Epoch 00063: val_loss did not improve from 2.01400\n",
            "Epoch 64/300\n",
            "50000/50000 [==============================] - 6s 111us/step - loss: 1.5288 - accuracy: 0.5701 - val_loss: 2.0245 - val_accuracy: 0.4821\n",
            "\n",
            "Epoch 00064: val_loss did not improve from 2.01400\n",
            "Epoch 65/300\n",
            "50000/50000 [==============================] - 6s 113us/step - loss: 1.5038 - accuracy: 0.5752 - val_loss: 2.0130 - val_accuracy: 0.4842\n",
            "\n",
            "Epoch 00065: val_loss improved from 2.01400 to 2.01296, saving model to ./model/cifa-100-65-2.0130.hdf5\n",
            "Epoch 66/300\n",
            "50000/50000 [==============================] - 6s 112us/step - loss: 1.4948 - accuracy: 0.5778 - val_loss: 2.0093 - val_accuracy: 0.4859\n",
            "\n",
            "Epoch 00066: val_loss improved from 2.01296 to 2.00926, saving model to ./model/cifa-100-66-2.0093.hdf5\n",
            "Epoch 67/300\n",
            "50000/50000 [==============================] - 6s 112us/step - loss: 1.4848 - accuracy: 0.5777 - val_loss: 2.0123 - val_accuracy: 0.4836\n",
            "\n",
            "Epoch 00067: val_loss did not improve from 2.00926\n",
            "Epoch 68/300\n",
            "50000/50000 [==============================] - 6s 112us/step - loss: 1.4643 - accuracy: 0.5842 - val_loss: 2.0078 - val_accuracy: 0.4834\n",
            "\n",
            "Epoch 00068: val_loss improved from 2.00926 to 2.00780, saving model to ./model/cifa-100-68-2.0078.hdf5\n",
            "Epoch 69/300\n",
            "50000/50000 [==============================] - 6s 113us/step - loss: 1.4505 - accuracy: 0.5870 - val_loss: 2.0039 - val_accuracy: 0.4833\n",
            "\n",
            "Epoch 00069: val_loss improved from 2.00780 to 2.00393, saving model to ./model/cifa-100-69-2.0039.hdf5\n",
            "Epoch 70/300\n",
            "50000/50000 [==============================] - 6s 113us/step - loss: 1.4373 - accuracy: 0.5887 - val_loss: 2.0062 - val_accuracy: 0.4858\n",
            "\n",
            "Epoch 00070: val_loss did not improve from 2.00393\n",
            "Epoch 71/300\n",
            "50000/50000 [==============================] - 6s 114us/step - loss: 1.4329 - accuracy: 0.5926 - val_loss: 2.0181 - val_accuracy: 0.4832\n",
            "\n",
            "Epoch 00071: val_loss did not improve from 2.00393\n",
            "Epoch 72/300\n",
            "50000/50000 [==============================] - 6s 112us/step - loss: 1.4205 - accuracy: 0.5940 - val_loss: 2.0078 - val_accuracy: 0.4873\n",
            "\n",
            "Epoch 00072: val_loss did not improve from 2.00393\n",
            "Epoch 73/300\n",
            "50000/50000 [==============================] - 6s 113us/step - loss: 1.3989 - accuracy: 0.5988 - val_loss: 2.0111 - val_accuracy: 0.4900\n",
            "\n",
            "Epoch 00073: val_loss did not improve from 2.00393\n",
            "Epoch 74/300\n",
            "50000/50000 [==============================] - 6s 113us/step - loss: 1.3980 - accuracy: 0.5984 - val_loss: 2.0205 - val_accuracy: 0.4860\n",
            "\n",
            "Epoch 00074: val_loss did not improve from 2.00393\n",
            "Epoch 75/300\n",
            "50000/50000 [==============================] - 6s 116us/step - loss: 1.3893 - accuracy: 0.6013 - val_loss: 2.0121 - val_accuracy: 0.4865\n",
            "\n",
            "Epoch 00075: val_loss did not improve from 2.00393\n",
            "Epoch 76/300\n",
            "50000/50000 [==============================] - 6s 112us/step - loss: 1.3686 - accuracy: 0.6041 - val_loss: 2.0037 - val_accuracy: 0.4859\n",
            "\n",
            "Epoch 00076: val_loss improved from 2.00393 to 2.00372, saving model to ./model/cifa-100-76-2.0037.hdf5\n",
            "Epoch 77/300\n",
            "50000/50000 [==============================] - 6s 112us/step - loss: 1.3462 - accuracy: 0.6102 - val_loss: 2.0077 - val_accuracy: 0.4892\n",
            "\n",
            "Epoch 00077: val_loss did not improve from 2.00372\n",
            "Epoch 78/300\n",
            "50000/50000 [==============================] - 6s 112us/step - loss: 1.3437 - accuracy: 0.6126 - val_loss: 2.0198 - val_accuracy: 0.4891\n",
            "\n",
            "Epoch 00078: val_loss did not improve from 2.00372\n",
            "Epoch 79/300\n",
            "50000/50000 [==============================] - 6s 112us/step - loss: 1.3277 - accuracy: 0.6163 - val_loss: 2.0049 - val_accuracy: 0.4905\n",
            "\n",
            "Epoch 00079: val_loss did not improve from 2.00372\n",
            "Epoch 80/300\n",
            "50000/50000 [==============================] - 6s 112us/step - loss: 1.3275 - accuracy: 0.6146 - val_loss: 2.0177 - val_accuracy: 0.4901\n",
            "\n",
            "Epoch 00080: val_loss did not improve from 2.00372\n",
            "Epoch 81/300\n",
            "50000/50000 [==============================] - 6s 112us/step - loss: 1.3116 - accuracy: 0.6176 - val_loss: 2.0104 - val_accuracy: 0.4867\n",
            "\n",
            "Epoch 00081: val_loss did not improve from 2.00372\n",
            "Epoch 82/300\n",
            "50000/50000 [==============================] - 6s 113us/step - loss: 1.3077 - accuracy: 0.6199 - val_loss: 2.0127 - val_accuracy: 0.4896\n",
            "\n",
            "Epoch 00082: val_loss did not improve from 2.00372\n",
            "Epoch 83/300\n",
            "50000/50000 [==============================] - 6s 112us/step - loss: 1.2856 - accuracy: 0.6242 - val_loss: 2.0197 - val_accuracy: 0.4903\n",
            "\n",
            "Epoch 00083: val_loss did not improve from 2.00372\n",
            "Epoch 84/300\n",
            "50000/50000 [==============================] - 6s 113us/step - loss: 1.2851 - accuracy: 0.6252 - val_loss: 2.0109 - val_accuracy: 0.4886\n",
            "\n",
            "Epoch 00084: val_loss did not improve from 2.00372\n",
            "Epoch 85/300\n",
            "50000/50000 [==============================] - 6s 114us/step - loss: 1.2753 - accuracy: 0.6268 - val_loss: 2.0146 - val_accuracy: 0.4937\n",
            "\n",
            "Epoch 00085: val_loss did not improve from 2.00372\n",
            "Epoch 86/300\n",
            "50000/50000 [==============================] - 6s 114us/step - loss: 1.2579 - accuracy: 0.6307 - val_loss: 2.0324 - val_accuracy: 0.4836\n",
            "\n",
            "Epoch 00086: val_loss did not improve from 2.00372\n",
            "Epoch 87/300\n",
            "50000/50000 [==============================] - 6s 112us/step - loss: 1.2509 - accuracy: 0.6297 - val_loss: 2.0201 - val_accuracy: 0.4900\n",
            "\n",
            "Epoch 00087: val_loss did not improve from 2.00372\n",
            "Epoch 88/300\n",
            "50000/50000 [==============================] - 6s 114us/step - loss: 1.2448 - accuracy: 0.6366 - val_loss: 2.0213 - val_accuracy: 0.4873\n",
            "\n",
            "Epoch 00088: val_loss did not improve from 2.00372\n",
            "Epoch 89/300\n",
            "50000/50000 [==============================] - 6s 113us/step - loss: 1.2346 - accuracy: 0.6372 - val_loss: 2.0122 - val_accuracy: 0.4921\n",
            "\n",
            "Epoch 00089: val_loss did not improve from 2.00372\n",
            "Epoch 90/300\n",
            "50000/50000 [==============================] - 6s 113us/step - loss: 1.2274 - accuracy: 0.6386 - val_loss: 2.0263 - val_accuracy: 0.4907\n",
            "\n",
            "Epoch 00090: val_loss did not improve from 2.00372\n",
            "Epoch 91/300\n",
            "50000/50000 [==============================] - 6s 112us/step - loss: 1.2126 - accuracy: 0.6432 - val_loss: 2.0193 - val_accuracy: 0.4923\n",
            "\n",
            "Epoch 00091: val_loss did not improve from 2.00372\n",
            "Epoch 92/300\n",
            "50000/50000 [==============================] - 6s 113us/step - loss: 1.2004 - accuracy: 0.6472 - val_loss: 2.0189 - val_accuracy: 0.4923\n",
            "\n",
            "Epoch 00092: val_loss did not improve from 2.00372\n",
            "Epoch 93/300\n",
            "50000/50000 [==============================] - 6s 112us/step - loss: 1.1883 - accuracy: 0.6493 - val_loss: 2.0232 - val_accuracy: 0.4899\n",
            "\n",
            "Epoch 00093: val_loss did not improve from 2.00372\n",
            "Epoch 94/300\n",
            "50000/50000 [==============================] - 6s 112us/step - loss: 1.1861 - accuracy: 0.6493 - val_loss: 2.0262 - val_accuracy: 0.4869\n",
            "\n",
            "Epoch 00094: val_loss did not improve from 2.00372\n",
            "Epoch 95/300\n",
            "50000/50000 [==============================] - 6s 112us/step - loss: 1.1744 - accuracy: 0.6519 - val_loss: 2.0141 - val_accuracy: 0.4905\n",
            "\n",
            "Epoch 00095: val_loss did not improve from 2.00372\n",
            "Epoch 96/300\n",
            "50000/50000 [==============================] - 6s 113us/step - loss: 1.1697 - accuracy: 0.6555 - val_loss: 2.0325 - val_accuracy: 0.4913\n",
            "\n",
            "Epoch 00096: val_loss did not improve from 2.00372\n"
          ],
          "name": "stdout"
        }
      ]
    },
    {
      "cell_type": "code",
      "metadata": {
        "id": "-KFKwhCgF_1G",
        "colab_type": "code",
        "colab": {}
      },
      "source": [
        "from keras.models import load_model\n",
        "#del model"
      ],
      "execution_count": null,
      "outputs": []
    },
    {
      "cell_type": "code",
      "metadata": {
        "id": "ptm-pj-_4ojF",
        "colab_type": "code",
        "colab": {
          "base_uri": "https://localhost:8080/",
          "height": 53
        },
        "outputId": "ae970b9f-8b67-4b9d-b086-222839cf263d"
      },
      "source": [
        "model = load_model('model/cifa-100-76-2.0037.hdf5')"
      ],
      "execution_count": null,
      "outputs": [
        {
          "output_type": "stream",
          "text": [
            "/usr/local/lib/python3.6/dist-packages/keras/engine/saving.py:341: UserWarning: No training configuration found in save file: the model was *not* compiled. Compile it manually.\n",
            "  warnings.warn('No training configuration found in save file: '\n"
          ],
          "name": "stderr"
        }
      ]
    },
    {
      "cell_type": "code",
      "metadata": {
        "id": "llLQwCDercwd",
        "colab_type": "code",
        "colab": {
          "base_uri": "https://localhost:8080/",
          "height": 71
        },
        "outputId": "be59f9a8-e4e9-41aa-e850-019fa9cdd083"
      },
      "source": [
        "# 테스트 정확도 출력 \n",
        "print(\"\\n Test Accuracy: %.4f\" % (model.evaluate(X_test, Y_test)[1]))"
      ],
      "execution_count": null,
      "outputs": [
        {
          "output_type": "stream",
          "text": [
            "10000/10000 [==============================] - 1s 99us/step\n",
            "\n",
            " Test Accuracy: 0.4858\n"
          ],
          "name": "stdout"
        }
      ]
    },
    {
      "cell_type": "markdown",
      "metadata": {
        "id": "NIyxRkhuu1lQ",
        "colab_type": "text"
      },
      "source": [
        "결과 그래프로 확인하기"
      ]
    },
    {
      "cell_type": "code",
      "metadata": {
        "id": "xxTeJ2vkrczG",
        "colab_type": "code",
        "colab": {}
      },
      "source": [
        "# 테스트셋\n",
        "y_vloss = history.history['val_loss']\n",
        "y_vacc = history.history['val_accuracy']\n",
        "# 학습셋\n",
        "y_loss = history.history['loss']\n",
        "y_acc = history.history['accuracy']"
      ],
      "execution_count": null,
      "outputs": []
    },
    {
      "cell_type": "code",
      "metadata": {
        "id": "l56iCEs_rc1-",
        "colab_type": "code",
        "colab": {
          "base_uri": "https://localhost:8080/",
          "height": 500
        },
        "outputId": "022d4acc-3756-467a-8d88-641b0111f81e"
      },
      "source": [
        "# 그래프로 표현\n",
        "import numpy as np\n",
        "np.random.seed(0)\n",
        "\n",
        "x_len = np.arange(1, len(y_loss)+1)\n",
        "fig, ax0 = plt.subplots(figsize=(10,8))\n",
        "ax1 = ax0.twinx()\n",
        "ax0.plot(x_len, y_loss, c=\"blue\", label='Trainset_loss')\n",
        "ax0.plot(x_len, y_vloss, c=\"red\", label='Testset_loss')\n",
        "ax0.set_ylabel('loss')\n",
        "ax1.plot(x_len, y_acc, c=\"darkgreen\", label='Trainset_acc')\n",
        "ax1.plot(x_len, y_vacc, c=\"magenta\", label='Testset_acc')\n",
        "ax1.set_ylabel('accuracy')\n",
        "ax0.set_xlabel('epoch')\n",
        "ax0.legend(loc='upper center')\n",
        "ax1.legend(loc='lower center')\n",
        "plt.show()"
      ],
      "execution_count": null,
      "outputs": [
        {
          "output_type": "display_data",
          "data": {
            "image/png": "[encoded data removed]",
            "text/plain": [
              "<Figure size 720x576 with 2 Axes>"
            ]
          },
          "metadata": {
            "tags": [],
            "needs_background": "light"
          }
        }
      ]
    },
    {
      "cell_type": "code",
      "metadata": {
        "id": "FSkYI_1E6tQN",
        "colab_type": "code",
        "colab": {
          "base_uri": "https://localhost:8080/",
          "height": 1000
        },
        "outputId": "101ae965-545b-436d-d419-975ebb33692e"
      },
      "source": [
        "!ls -l model"
      ],
      "execution_count": null,
      "outputs": [
        {
          "output_type": "stream",
          "text": [
            "total 1006656\n",
            "-rw-r--r-- 1 root root 4813232 Jul  7 07:20 cifa-100-01-3.9021.hdf5\n",
            "-rw-r--r-- 1 root root 4813232 Jul  7 07:33 cifa-100-01-3.9300.hdf5\n",
            "-rw-r--r-- 1 root root 4812904 Jul  7 07:05 cifa-100-01-3.9510.hdf5\n",
            "-rw-r--r-- 1 root root 4813240 Jul  7 06:53 cifa-100-01-3.9588.hdf5\n",
            "-rw-r--r-- 1 root root 4813232 Jul  7 07:33 cifa-100-02-3.5745.hdf5\n",
            "-rw-r--r-- 1 root root 4813232 Jul  7 07:20 cifa-100-02-3.5772.hdf5\n",
            "-rw-r--r-- 1 root root 4812904 Jul  7 07:06 cifa-100-02-3.5869.hdf5\n",
            "-rw-r--r-- 1 root root 4813240 Jul  7 06:53 cifa-100-02-3.5898.hdf5\n",
            "-rw-r--r-- 1 root root 4813232 Jul  7 07:21 cifa-100-03-3.3889.hdf5\n",
            "-rw-r--r-- 1 root root 4812904 Jul  7 07:06 cifa-100-03-3.3984.hdf5\n",
            "-rw-r--r-- 1 root root 4813240 Jul  7 06:53 cifa-100-03-3.4060.hdf5\n",
            "-rw-r--r-- 1 root root 4813232 Jul  7 07:33 cifa-100-03-3.4112.hdf5\n",
            "-rw-r--r-- 1 root root 4813232 Jul  7 07:21 cifa-100-04-3.2414.hdf5\n",
            "-rw-r--r-- 1 root root 4812904 Jul  7 07:06 cifa-100-04-3.2426.hdf5\n",
            "-rw-r--r-- 1 root root 4813232 Jul  7 07:33 cifa-100-04-3.2475.hdf5\n",
            "-rw-r--r-- 1 root root 4813240 Jul  7 06:53 cifa-100-04-3.2696.hdf5\n",
            "-rw-r--r-- 1 root root 4813232 Jul  7 07:21 cifa-100-05-3.1074.hdf5\n",
            "-rw-r--r-- 1 root root 4813232 Jul  7 07:33 cifa-100-05-3.1262.hdf5\n",
            "-rw-r--r-- 1 root root 4812904 Jul  7 07:06 cifa-100-05-3.1299.hdf5\n",
            "-rw-r--r-- 1 root root 4813240 Jul  7 06:53 cifa-100-05-3.1463.hdf5\n",
            "-rw-r--r-- 1 root root 4813232 Jul  7 07:21 cifa-100-06-3.0149.hdf5\n",
            "-rw-r--r-- 1 root root 4813232 Jul  7 07:33 cifa-100-06-3.0388.hdf5\n",
            "-rw-r--r-- 1 root root 4812904 Jul  7 07:06 cifa-100-06-3.0416.hdf5\n",
            "-rw-r--r-- 1 root root 4813240 Jul  7 06:53 cifa-100-06-3.0565.hdf5\n",
            "-rw-r--r-- 1 root root 4813232 Jul  7 07:21 cifa-100-07-2.9187.hdf5\n",
            "-rw-r--r-- 1 root root 4812904 Jul  7 07:06 cifa-100-07-2.9674.hdf5\n",
            "-rw-r--r-- 1 root root 4813232 Jul  7 07:33 cifa-100-07-2.9752.hdf5\n",
            "-rw-r--r-- 1 root root 4813240 Jul  7 06:54 cifa-100-07-2.9786.hdf5\n",
            "-rw-r--r-- 1 root root 4813232 Jul  7 07:21 cifa-100-08-2.8580.hdf5\n",
            "-rw-r--r-- 1 root root 4813232 Jul  7 07:33 cifa-100-08-2.8766.hdf5\n",
            "-rw-r--r-- 1 root root 4812904 Jul  7 07:06 cifa-100-08-2.8920.hdf5\n",
            "-rw-r--r-- 1 root root 4813240 Jul  7 06:54 cifa-100-08-2.9043.hdf5\n",
            "-rw-r--r-- 1 root root 4813232 Jul  7 07:21 cifa-100-09-2.7768.hdf5\n",
            "-rw-r--r-- 1 root root 4812904 Jul  7 07:06 cifa-100-09-2.8022.hdf5\n",
            "-rw-r--r-- 1 root root 4813232 Jul  7 07:33 cifa-100-09-2.8204.hdf5\n",
            "-rw-r--r-- 1 root root 4813240 Jul  7 06:54 cifa-100-09-2.8308.hdf5\n",
            "-rw-r--r-- 1 root root 4813232 Jul  7 07:21 cifa-100-10-2.7190.hdf5\n",
            "-rw-r--r-- 1 root root 4812904 Jul  7 07:06 cifa-100-10-2.7495.hdf5\n",
            "-rw-r--r-- 1 root root 4813240 Jul  7 06:54 cifa-100-10-2.7576.hdf5\n",
            "-rw-r--r-- 1 root root 4813232 Jul  7 07:33 cifa-100-10-2.7652.hdf5\n",
            "-rw-r--r-- 1 root root 4813232 Jul  7 07:21 cifa-100-11-2.6819.hdf5\n",
            "-rw-r--r-- 1 root root 4812904 Jul  7 07:06 cifa-100-11-2.7043.hdf5\n",
            "-rw-r--r-- 1 root root 4813240 Jul  7 06:54 cifa-100-11-2.7106.hdf5\n",
            "-rw-r--r-- 1 root root 4813232 Jul  7 07:34 cifa-100-11-2.7150.hdf5\n",
            "-rw-r--r-- 1 root root 4812904 Jul  7 07:07 cifa-100-12-2.6488.hdf5\n",
            "-rw-r--r-- 1 root root 4813232 Jul  7 07:21 cifa-100-12-2.6539.hdf5\n",
            "-rw-r--r-- 1 root root 4813240 Jul  7 06:54 cifa-100-12-2.6570.hdf5\n",
            "-rw-r--r-- 1 root root 4813232 Jul  7 07:34 cifa-100-12-2.6637.hdf5\n",
            "-rw-r--r-- 1 root root 4813232 Jul  7 07:22 cifa-100-13-2.5986.hdf5\n",
            "-rw-r--r-- 1 root root 4812904 Jul  7 07:07 cifa-100-13-2.6173.hdf5\n",
            "-rw-r--r-- 1 root root 4813240 Jul  7 06:54 cifa-100-13-2.6195.hdf5\n",
            "-rw-r--r-- 1 root root 4813232 Jul  7 07:34 cifa-100-13-2.6231.hdf5\n",
            "-rw-r--r-- 1 root root 4813232 Jul  7 07:22 cifa-100-14-2.5508.hdf5\n",
            "-rw-r--r-- 1 root root 4812904 Jul  7 07:07 cifa-100-14-2.5677.hdf5\n",
            "-rw-r--r-- 1 root root 4813240 Jul  7 06:54 cifa-100-14-2.5869.hdf5\n",
            "-rw-r--r-- 1 root root 4813232 Jul  7 07:34 cifa-100-14-2.5963.hdf5\n",
            "-rw-r--r-- 1 root root 4813232 Jul  7 07:22 cifa-100-15-2.5217.hdf5\n",
            "-rw-r--r-- 1 root root 4812904 Jul  7 07:07 cifa-100-15-2.5328.hdf5\n",
            "-rw-r--r-- 1 root root 4813240 Jul  7 06:54 cifa-100-15-2.5449.hdf5\n",
            "-rw-r--r-- 1 root root 4813232 Jul  7 07:34 cifa-100-15-2.5494.hdf5\n",
            "-rw-r--r-- 1 root root 4813232 Jul  7 07:22 cifa-100-16-2.4938.hdf5\n",
            "-rw-r--r-- 1 root root 4812904 Jul  7 07:07 cifa-100-16-2.4983.hdf5\n",
            "-rw-r--r-- 1 root root 4813240 Jul  7 06:54 cifa-100-16-2.5061.hdf5\n",
            "-rw-r--r-- 1 root root 4813232 Jul  7 07:34 cifa-100-16-2.5434.hdf5\n",
            "-rw-r--r-- 1 root root 4813232 Jul  7 07:22 cifa-100-17-2.4397.hdf5\n",
            "-rw-r--r-- 1 root root 4812904 Jul  7 07:07 cifa-100-17-2.4677.hdf5\n",
            "-rw-r--r-- 1 root root 4813240 Jul  7 06:55 cifa-100-17-2.4864.hdf5\n",
            "-rw-r--r-- 1 root root 4813232 Jul  7 07:34 cifa-100-17-2.5062.hdf5\n",
            "-rw-r--r-- 1 root root 4813232 Jul  7 07:22 cifa-100-18-2.4265.hdf5\n",
            "-rw-r--r-- 1 root root 4812904 Jul  7 07:07 cifa-100-18-2.4405.hdf5\n",
            "-rw-r--r-- 1 root root 4813240 Jul  7 06:55 cifa-100-18-2.4613.hdf5\n",
            "-rw-r--r-- 1 root root 4813232 Jul  7 07:34 cifa-100-18-2.4625.hdf5\n",
            "-rw-r--r-- 1 root root 4813232 Jul  7 07:22 cifa-100-19-2.3877.hdf5\n",
            "-rw-r--r-- 1 root root 4812904 Jul  7 07:07 cifa-100-19-2.4193.hdf5\n",
            "-rw-r--r-- 1 root root 4813240 Jul  7 06:55 cifa-100-19-2.4252.hdf5\n",
            "-rw-r--r-- 1 root root 4813232 Jul  7 07:34 cifa-100-19-2.4447.hdf5\n",
            "-rw-r--r-- 1 root root 4813232 Jul  7 07:22 cifa-100-20-2.3661.hdf5\n",
            "-rw-r--r-- 1 root root 4813240 Jul  7 06:55 cifa-100-20-2.3966.hdf5\n",
            "-rw-r--r-- 1 root root 4813232 Jul  7 07:34 cifa-100-20-2.3998.hdf5\n",
            "-rw-r--r-- 1 root root 4812904 Jul  7 07:07 cifa-100-20-2.4035.hdf5\n",
            "-rw-r--r-- 1 root root 4813232 Jul  7 07:22 cifa-100-21-2.3433.hdf5\n",
            "-rw-r--r-- 1 root root 4813240 Jul  7 06:55 cifa-100-21-2.3673.hdf5\n",
            "-rw-r--r-- 1 root root 4813232 Jul  7 07:35 cifa-100-21-2.3805.hdf5\n",
            "-rw-r--r-- 1 root root 4812904 Jul  7 07:07 cifa-100-21-2.3838.hdf5\n",
            "-rw-r--r-- 1 root root 4813232 Jul  7 07:22 cifa-100-22-2.3190.hdf5\n",
            "-rw-r--r-- 1 root root 4812904 Jul  7 07:08 cifa-100-22-2.3448.hdf5\n",
            "-rw-r--r-- 1 root root 4813232 Jul  7 07:35 cifa-100-22-2.3686.hdf5\n",
            "-rw-r--r-- 1 root root 4813232 Jul  7 07:23 cifa-100-23-2.2901.hdf5\n",
            "-rw-r--r-- 1 root root 4812904 Jul  7 07:08 cifa-100-23-2.3133.hdf5\n",
            "-rw-r--r-- 1 root root 4813240 Jul  7 06:55 cifa-100-23-2.3418.hdf5\n",
            "-rw-r--r-- 1 root root 4813232 Jul  7 07:35 cifa-100-23-2.3431.hdf5\n",
            "-rw-r--r-- 1 root root 4812904 Jul  7 07:08 cifa-100-24-2.2914.hdf5\n",
            "-rw-r--r-- 1 root root 4813232 Jul  7 07:35 cifa-100-24-2.3091.hdf5\n",
            "-rw-r--r-- 1 root root 4813240 Jul  7 06:55 cifa-100-24-2.3337.hdf5\n",
            "-rw-r--r-- 1 root root 4813232 Jul  7 07:23 cifa-100-25-2.2740.hdf5\n",
            "-rw-r--r-- 1 root root 4812904 Jul  7 07:08 cifa-100-25-2.2863.hdf5\n",
            "-rw-r--r-- 1 root root 4813240 Jul  7 06:55 cifa-100-25-2.2924.hdf5\n",
            "-rw-r--r-- 1 root root 4813232 Jul  7 07:35 cifa-100-25-2.2989.hdf5\n",
            "-rw-r--r-- 1 root root 4813232 Jul  7 07:23 cifa-100-26-2.2506.hdf5\n",
            "-rw-r--r-- 1 root root 4812904 Jul  7 07:08 cifa-100-26-2.2610.hdf5\n",
            "-rw-r--r-- 1 root root 4813232 Jul  7 07:35 cifa-100-26-2.2783.hdf5\n",
            "-rw-r--r-- 1 root root 4813240 Jul  7 06:55 cifa-100-26-2.2809.hdf5\n",
            "-rw-r--r-- 1 root root 4813232 Jul  7 07:23 cifa-100-27-2.2281.hdf5\n",
            "-rw-r--r-- 1 root root 4812904 Jul  7 07:08 cifa-100-27-2.2539.hdf5\n",
            "-rw-r--r-- 1 root root 4813232 Jul  7 07:35 cifa-100-27-2.2623.hdf5\n",
            "-rw-r--r-- 1 root root 4813240 Jul  7 06:56 cifa-100-27-2.2688.hdf5\n",
            "-rw-r--r-- 1 root root 4813232 Jul  7 07:23 cifa-100-28-2.2211.hdf5\n",
            "-rw-r--r-- 1 root root 4812904 Jul  7 07:08 cifa-100-28-2.2302.hdf5\n",
            "-rw-r--r-- 1 root root 4813232 Jul  7 07:35 cifa-100-28-2.2385.hdf5\n",
            "-rw-r--r-- 1 root root 4813240 Jul  7 06:56 cifa-100-28-2.2449.hdf5\n",
            "-rw-r--r-- 1 root root 4813232 Jul  7 07:23 cifa-100-29-2.1998.hdf5\n",
            "-rw-r--r-- 1 root root 4813232 Jul  7 07:35 cifa-100-29-2.2335.hdf5\n",
            "-rw-r--r-- 1 root root 4813232 Jul  7 07:23 cifa-100-30-2.1931.hdf5\n",
            "-rw-r--r-- 1 root root 4812904 Jul  7 07:08 cifa-100-30-2.2076.hdf5\n",
            "-rw-r--r-- 1 root root 4813232 Jul  7 07:35 cifa-100-30-2.2268.hdf5\n",
            "-rw-r--r-- 1 root root 4813240 Jul  7 06:56 cifa-100-30-2.2298.hdf5\n",
            "-rw-r--r-- 1 root root 4813232 Jul  7 07:23 cifa-100-31-2.1656.hdf5\n",
            "-rw-r--r-- 1 root root 4812904 Jul  7 07:08 cifa-100-31-2.1815.hdf5\n",
            "-rw-r--r-- 1 root root 4813232 Jul  7 07:35 cifa-100-31-2.2104.hdf5\n",
            "-rw-r--r-- 1 root root 4813240 Jul  7 06:56 cifa-100-31-2.2162.hdf5\n",
            "-rw-r--r-- 1 root root 4812904 Jul  7 07:08 cifa-100-32-2.1765.hdf5\n",
            "-rw-r--r-- 1 root root 4813240 Jul  7 06:56 cifa-100-32-2.2026.hdf5\n",
            "-rw-r--r-- 1 root root 4812904 Jul  7 07:09 cifa-100-33-2.1573.hdf5\n",
            "-rw-r--r-- 1 root root 4813232 Jul  7 07:36 cifa-100-33-2.1742.hdf5\n",
            "-rw-r--r-- 1 root root 4813240 Jul  7 06:56 cifa-100-33-2.1850.hdf5\n",
            "-rw-r--r-- 1 root root 4813232 Jul  7 07:24 cifa-100-34-2.1464.hdf5\n",
            "-rw-r--r-- 1 root root 4813240 Jul  7 06:56 cifa-100-34-2.1751.hdf5\n",
            "-rw-r--r-- 1 root root 4813232 Jul  7 07:24 cifa-100-35-2.1235.hdf5\n",
            "-rw-r--r-- 1 root root 4812904 Jul  7 07:09 cifa-100-35-2.1236.hdf5\n",
            "-rw-r--r-- 1 root root 4813232 Jul  7 07:36 cifa-100-35-2.1517.hdf5\n",
            "-rw-r--r-- 1 root root 4813232 Jul  7 07:24 cifa-100-36-2.1120.hdf5\n",
            "-rw-r--r-- 1 root root 4813240 Jul  7 06:56 cifa-100-36-2.1472.hdf5\n",
            "-rw-r--r-- 1 root root 4812904 Jul  7 07:09 cifa-100-37-2.1064.hdf5\n",
            "-rw-r--r-- 1 root root 4813232 Jul  7 07:36 cifa-100-37-2.1447.hdf5\n",
            "-rw-r--r-- 1 root root 4813240 Jul  7 06:57 cifa-100-37-2.1448.hdf5\n",
            "-rw-r--r-- 1 root root 4813232 Jul  7 07:24 cifa-100-38-2.1001.hdf5\n",
            "-rw-r--r-- 1 root root 4813240 Jul  7 06:57 cifa-100-38-2.1289.hdf5\n",
            "-rw-r--r-- 1 root root 4813232 Jul  7 07:36 cifa-100-38-2.1424.hdf5\n",
            "-rw-r--r-- 1 root root 4812904 Jul  7 07:09 cifa-100-39-2.0865.hdf5\n",
            "-rw-r--r-- 1 root root 4813232 Jul  7 07:36 cifa-100-39-2.1193.hdf5\n",
            "-rw-r--r-- 1 root root 4813240 Jul  7 06:57 cifa-100-39-2.1228.hdf5\n",
            "-rw-r--r-- 1 root root 4812904 Jul  7 07:09 cifa-100-40-2.0818.hdf5\n",
            "-rw-r--r-- 1 root root 4813232 Jul  7 07:24 cifa-100-40-2.0957.hdf5\n",
            "-rw-r--r-- 1 root root 4813240 Jul  7 06:57 cifa-100-40-2.1168.hdf5\n",
            "-rw-r--r-- 1 root root 4813232 Jul  7 07:24 cifa-100-41-2.0753.hdf5\n",
            "-rw-r--r-- 1 root root 4812904 Jul  7 07:09 cifa-100-41-2.0784.hdf5\n",
            "-rw-r--r-- 1 root root 4813232 Jul  7 07:36 cifa-100-41-2.1080.hdf5\n",
            "-rw-r--r-- 1 root root 4813240 Jul  7 06:57 cifa-100-41-2.1147.hdf5\n",
            "-rw-r--r-- 1 root root 4812904 Jul  7 07:09 cifa-100-42-2.0673.hdf5\n",
            "-rw-r--r-- 1 root root 4813232 Jul  7 07:24 cifa-100-42-2.0726.hdf5\n",
            "-rw-r--r-- 1 root root 4813232 Jul  7 07:36 cifa-100-42-2.0968.hdf5\n",
            "-rw-r--r-- 1 root root 4813240 Jul  7 06:57 cifa-100-42-2.1073.hdf5\n",
            "-rw-r--r-- 1 root root 4813232 Jul  7 07:25 cifa-100-43-2.0606.hdf5\n",
            "-rw-r--r-- 1 root root 4813232 Jul  7 07:37 cifa-100-43-2.0916.hdf5\n",
            "-rw-r--r-- 1 root root 4812904 Jul  7 07:10 cifa-100-44-2.0652.hdf5\n",
            "-rw-r--r-- 1 root root 4813240 Jul  7 06:57 cifa-100-44-2.0910.hdf5\n",
            "-rw-r--r-- 1 root root 4813232 Jul  7 07:25 cifa-100-45-2.0531.hdf5\n",
            "-rw-r--r-- 1 root root 4812904 Jul  7 07:10 cifa-100-45-2.0556.hdf5\n",
            "-rw-r--r-- 1 root root 4813240 Jul  7 06:57 cifa-100-45-2.0851.hdf5\n",
            "-rw-r--r-- 1 root root 4813232 Jul  7 07:25 cifa-100-46-2.0506.hdf5\n",
            "-rw-r--r-- 1 root root 4813240 Jul  7 06:57 cifa-100-46-2.0837.hdf5\n",
            "-rw-r--r-- 1 root root 4813232 Jul  7 07:37 cifa-100-46-2.0871.hdf5\n",
            "-rw-r--r-- 1 root root 4813232 Jul  7 07:25 cifa-100-47-2.0401.hdf5\n",
            "-rw-r--r-- 1 root root 4812904 Jul  7 07:10 cifa-100-47-2.0542.hdf5\n",
            "-rw-r--r-- 1 root root 4813240 Jul  7 06:58 cifa-100-47-2.0687.hdf5\n",
            "-rw-r--r-- 1 root root 4813232 Jul  7 07:37 cifa-100-47-2.0860.hdf5\n",
            "-rw-r--r-- 1 root root 4813232 Jul  7 07:25 cifa-100-48-2.0398.hdf5\n",
            "-rw-r--r-- 1 root root 4812904 Jul  7 07:10 cifa-100-48-2.0410.hdf5\n",
            "-rw-r--r-- 1 root root 4813232 Jul  7 07:37 cifa-100-48-2.0763.hdf5\n",
            "-rw-r--r-- 1 root root 4812904 Jul  7 07:10 cifa-100-49-2.0352.hdf5\n",
            "-rw-r--r-- 1 root root 4813232 Jul  7 07:25 cifa-100-49-2.0364.hdf5\n",
            "-rw-r--r-- 1 root root 4813240 Jul  7 06:58 cifa-100-49-2.0557.hdf5\n",
            "-rw-r--r-- 1 root root 4813232 Jul  7 07:37 cifa-100-49-2.0572.hdf5\n",
            "-rw-r--r-- 1 root root 4813232 Jul  7 07:25 cifa-100-50-2.0260.hdf5\n",
            "-rw-r--r-- 1 root root 4812904 Jul  7 07:10 cifa-100-50-2.0285.hdf5\n",
            "-rw-r--r-- 1 root root 4813240 Jul  7 06:58 cifa-100-50-2.0471.hdf5\n",
            "-rw-r--r-- 1 root root 4813232 Jul  7 07:37 cifa-100-50-2.0509.hdf5\n",
            "-rw-r--r-- 1 root root 4813232 Jul  7 07:25 cifa-100-51-2.0256.hdf5\n",
            "-rw-r--r-- 1 root root 4813232 Jul  7 07:37 cifa-100-51-2.0489.hdf5\n",
            "-rw-r--r-- 1 root root 4813232 Jul  7 07:25 cifa-100-52-2.0135.hdf5\n",
            "-rw-r--r-- 1 root root 4812904 Jul  7 07:10 cifa-100-52-2.0203.hdf5\n",
            "-rw-r--r-- 1 root root 4813232 Jul  7 07:37 cifa-100-52-2.0466.hdf5\n",
            "-rw-r--r-- 1 root root 4813240 Jul  7 06:58 cifa-100-53-2.0442.hdf5\n",
            "-rw-r--r-- 1 root root 4813232 Jul  7 07:38 cifa-100-54-2.0339.hdf5\n",
            "-rw-r--r-- 1 root root 4813240 Jul  7 06:58 cifa-100-54-2.0388.hdf5\n",
            "-rw-r--r-- 1 root root 4812904 Jul  7 07:11 cifa-100-55-2.0107.hdf5\n",
            "-rw-r--r-- 1 root root 4813240 Jul  7 06:58 cifa-100-55-2.0322.hdf5\n",
            "-rw-r--r-- 1 root root 4813232 Jul  7 07:26 cifa-100-56-2.0090.hdf5\n",
            "-rw-r--r-- 1 root root 4812904 Jul  7 07:11 cifa-100-57-2.0032.hdf5\n",
            "-rw-r--r-- 1 root root 4813232 Jul  7 07:26 cifa-100-57-2.0064.hdf5\n",
            "-rw-r--r-- 1 root root 4813232 Jul  7 07:38 cifa-100-57-2.0300.hdf5\n",
            "-rw-r--r-- 1 root root 4813240 Jul  7 06:58 cifa-100-57-2.0308.hdf5\n",
            "-rw-r--r-- 1 root root 4813232 Jul  7 07:38 cifa-100-58-2.0198.hdf5\n",
            "-rw-r--r-- 1 root root 4813240 Jul  7 06:59 cifa-100-58-2.0299.hdf5\n",
            "-rw-r--r-- 1 root root 4813232 Jul  7 07:26 cifa-100-59-1.9909.hdf5\n",
            "-rw-r--r-- 1 root root 4812904 Jul  7 07:11 cifa-100-59-1.9985.hdf5\n",
            "-rw-r--r-- 1 root root 4813240 Jul  7 06:59 cifa-100-59-2.0242.hdf5\n",
            "-rw-r--r-- 1 root root 4813240 Jul  7 06:59 cifa-100-60-2.0224.hdf5\n",
            "-rw-r--r-- 1 root root 4813232 Jul  7 07:26 cifa-100-61-1.9882.hdf5\n",
            "-rw-r--r-- 1 root root 4812904 Jul  7 07:11 cifa-100-61-1.9963.hdf5\n",
            "-rw-r--r-- 1 root root 4813232 Jul  7 07:38 cifa-100-61-2.0143.hdf5\n",
            "-rw-r--r-- 1 root root 4813232 Jul  7 07:38 cifa-100-62-2.0140.hdf5\n",
            "-rw-r--r-- 1 root root 4813240 Jul  7 06:59 cifa-100-62-2.0206.hdf5\n",
            "-rw-r--r-- 1 root root 4813240 Jul  7 06:59 cifa-100-63-2.0099.hdf5\n",
            "-rw-r--r-- 1 root root 4813232 Jul  7 07:27 cifa-100-64-1.9854.hdf5\n",
            "-rw-r--r-- 1 root root 4812904 Jul  7 07:12 cifa-100-65-1.9932.hdf5\n",
            "-rw-r--r-- 1 root root 4813240 Jul  7 06:59 cifa-100-65-2.0078.hdf5\n",
            "-rw-r--r-- 1 root root 4813232 Jul  7 07:39 cifa-100-65-2.0130.hdf5\n",
            "-rw-r--r-- 1 root root 4813232 Jul  7 07:39 cifa-100-66-2.0093.hdf5\n",
            "-rw-r--r-- 1 root root 4812904 Jul  7 07:12 cifa-100-68-1.9815.hdf5\n",
            "-rw-r--r-- 1 root root 4813232 Jul  7 07:39 cifa-100-68-2.0078.hdf5\n",
            "-rw-r--r-- 1 root root 4813232 Jul  7 07:39 cifa-100-69-2.0039.hdf5\n",
            "-rw-r--r-- 1 root root 4813232 Jul  7 07:40 cifa-100-76-2.0037.hdf5\n",
            "-rw-r--r-- 1 root root 4813240 Jul  7 07:00 cifa-100-77-2.0073.hdf5\n"
          ],
          "name": "stdout"
        }
      ]
    }
  ]
}