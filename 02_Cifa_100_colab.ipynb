{
  "nbformat": 4,
  "nbformat_minor": 0,
  "metadata": {
    "colab": {
      "name": "02 Cifa-100_colab.ipynb",
      "provenance": [],
      "collapsed_sections": [],
      "authorship_tag": "ABX9TyO1keCNBwW98hNvcl50yqv9",
      "include_colab_link": true
    },
    "kernelspec": {
      "name": "python3",
      "display_name": "Python 3"
    },
    "accelerator": "GPU"
  },
  "cells": [
    {
      "cell_type": "markdown",
      "metadata": {
        "id": "view-in-github",
        "colab_type": "text"
      },
      "source": [
        "<a href=\"https://colab.research.google.com/github/YueunKim/Deep-Learning_Colab/blob/master/02_Cifa_100_colab.ipynb\" target=\"_parent\"><img src=\"https://colab.research.google.com/assets/colab-badge.svg\" alt=\"Open In Colab\"/></a>"
      ]
    },
    {
      "cell_type": "markdown",
      "metadata": {
        "id": "gZZkJqmrC5DV",
        "colab_type": "text"
      },
      "source": [
        "# Cifar-100\n",
        "## Best Model 찾기"
      ]
    },
    {
      "cell_type": "code",
      "metadata": {
        "id": "daYxltT1wsJ_",
        "colab_type": "code",
        "colab": {
          "base_uri": "https://localhost:8080/",
          "height": 35
        },
        "outputId": "7032e6a8-ac0a-4bba-c926-2006ab37f446"
      },
      "source": [
        "!mkdir model"
      ],
      "execution_count": null,
      "outputs": [
        {
          "output_type": "stream",
          "text": [
            "mkdir: cannot create directory ‘model’: File exists\n"
          ],
          "name": "stdout"
        }
      ]
    },
    {
      "cell_type": "code",
      "metadata": {
        "id": "UVHEYodJw1Nt",
        "colab_type": "code",
        "colab": {
          "base_uri": "https://localhost:8080/",
          "height": 71
        },
        "outputId": "c95f4620-9b74-40ab-c0a7-85bde57ca9c8"
      },
      "source": [
        "!ls -l"
      ],
      "execution_count": null,
      "outputs": [
        {
          "output_type": "stream",
          "text": [
            "total 8\n",
            "drwxr-xr-x 2 root root 4096 Jul  7 07:12 model\n",
            "drwxr-xr-x 1 root root 4096 Jun 26 16:26 sample_data\n"
          ],
          "name": "stdout"
        }
      ]
    },
    {
      "cell_type": "code",
      "metadata": {
        "id": "aO_amtgApw4y",
        "colab_type": "code",
        "colab": {
          "base_uri": "https://localhost:8080/",
          "height": 35
        },
        "outputId": "dfb73a43-16df-4675-edc9-1405fd47fb8e"
      },
      "source": [
        "%tensorflow_version 2.x\n",
        "import tensorflow as tf\n",
        "device_name = tf.test.gpu_device_name()\n",
        "if device_name != '/device:GPU:0':\n",
        "  raise SystemError('GPU device not found')\n",
        "print('Found GPU at: {}'.format(device_name))"
      ],
      "execution_count": null,
      "outputs": [
        {
          "output_type": "stream",
          "text": [
            "Found GPU at: /device:GPU:0\n"
          ],
          "name": "stdout"
        }
      ]
    },
    {
      "cell_type": "code",
      "metadata": {
        "id": "nGtCDxw0p8O2",
        "colab_type": "code",
        "colab": {}
      },
      "source": [
        "from tensorflow import keras\n",
        "from keras.datasets import cifar100\n",
        "(X_train, y_train), (X_test, y_test) = cifar100.load_data(label_mode='fine')"
      ],
      "execution_count": null,
      "outputs": []
    },
    {
      "cell_type": "code",
      "metadata": {
        "id": "KLprqzVwp8RV",
        "colab_type": "code",
        "colab": {
          "base_uri": "https://localhost:8080/",
          "height": 35
        },
        "outputId": "7bf2b4e0-4824-4865-bae0-3a8f9795e5b1"
      },
      "source": [
        "X_train.shape, X_test.shape"
      ],
      "execution_count": null,
      "outputs": [
        {
          "output_type": "execute_result",
          "data": {
            "text/plain": [
              "((50000, 32, 32, 3), (10000, 32, 32, 3))"
            ]
          },
          "metadata": {
            "tags": []
          },
          "execution_count": 71
        }
      ]
    },
    {
      "cell_type": "markdown",
      "metadata": {
        "id": "xf_pqKLWqYaI",
        "colab_type": "text"
      },
      "source": [
        "### 데이터 확인"
      ]
    },
    {
      "cell_type": "code",
      "metadata": {
        "id": "agJMEIgZp8T9",
        "colab_type": "code",
        "colab": {}
      },
      "source": [
        "CIFAR100_LABELS_LIST = [\n",
        "    'apple', 'aquarium_fish', 'baby', 'bear', 'beaver', 'bed', 'bee', 'beetle', \n",
        "    'bicycle', 'bottle', 'bowl', 'boy', 'bridge', 'bus', 'butterfly', 'camel', \n",
        "    'can', 'castle', 'caterpillar', 'cattle', 'chair', 'chimpanzee', 'clock', \n",
        "    'cloud', 'cockroach', 'couch', 'crab', 'crocodile', 'cup', 'dinosaur', \n",
        "    'dolphin', 'elephant', 'flatfish', 'forest', 'fox', 'girl', 'hamster', \n",
        "    'house', 'kangaroo', 'keyboard', 'lamp', 'lawn_mower', 'leopard', 'lion',\n",
        "    'lizard', 'lobster', 'man', 'maple_tree', 'motorcycle', 'mountain', 'mouse',\n",
        "    'mushroom', 'oak_tree', 'orange', 'orchid', 'otter', 'palm_tree', 'pear',\n",
        "    'pickup_truck', 'pine_tree', 'plain', 'plate', 'poppy', 'porcupine',\n",
        "    'possum', 'rabbit', 'raccoon', 'ray', 'road', 'rocket', 'rose',\n",
        "    'sea', 'seal', 'shark', 'shrew', 'skunk', 'skyscraper', 'snail', 'snake',\n",
        "    'spider', 'squirrel', 'streetcar', 'sunflower', 'sweet_pepper', 'table',\n",
        "    'tank', 'telephone', 'television', 'tiger', 'tractor', 'train', 'trout',\n",
        "    'tulip', 'turtle', 'wardrobe', 'whale', 'willow_tree', 'wolf', 'woman',\n",
        "    'worm'\n",
        "]"
      ],
      "execution_count": null,
      "outputs": []
    },
    {
      "cell_type": "code",
      "metadata": {
        "id": "urpIr3O0p8WV",
        "colab_type": "code",
        "colab": {
          "base_uri": "https://localhost:8080/",
          "height": 124
        },
        "outputId": "80a65e88-ac48-4b70-da29-d47351b5df7d"
      },
      "source": [
        "import matplotlib.pyplot as plt\n",
        "%matplotlib inline\n",
        "\n",
        "plt.subplot(141)\n",
        "plt.imshow(X_train[0], interpolation=\"bicubic\")\n",
        "plt.grid(False)\n",
        "plt.subplot(142)\n",
        "plt.imshow(X_train[4], interpolation=\"bicubic\")\n",
        "plt.grid(False)\n",
        "plt.subplot(143)\n",
        "plt.imshow(X_train[8], interpolation=\"bicubic\")\n",
        "plt.grid(False)\n",
        "plt.subplot(144)\n",
        "plt.imshow(X_train[12], interpolation=\"bicubic\")\n",
        "plt.grid(False)\n",
        "plt.show()"
      ],
      "execution_count": null,
      "outputs": [
        {
          "output_type": "display_data",
          "data": {
            "image/png": "[encoded data removed]",
            "text/plain": [
              "<Figure size 432x288 with 4 Axes>"
            ]
          },
          "metadata": {
            "tags": [],
            "needs_background": "light"
          }
        }
      ]
    },
    {
      "cell_type": "code",
      "metadata": {
        "id": "K2mq0aiRqhAu",
        "colab_type": "code",
        "colab": {
          "base_uri": "https://localhost:8080/",
          "height": 35
        },
        "outputId": "a32f99dc-7c79-49a5-f687-a7618cec8ef7"
      },
      "source": [
        "CIFAR100_LABELS_LIST[y_train[0][0]], CIFAR100_LABELS_LIST[y_train[4][0]], \\\n",
        "CIFAR100_LABELS_LIST[y_train[8][0]], CIFAR100_LABELS_LIST[y_train[12][0]]"
      ],
      "execution_count": null,
      "outputs": [
        {
          "output_type": "execute_result",
          "data": {
            "text/plain": [
              "('cattle', 'aquarium_fish', 'cloud', 'sunflower')"
            ]
          },
          "metadata": {
            "tags": []
          },
          "execution_count": 74
        }
      ]
    },
    {
      "cell_type": "markdown",
      "metadata": {
        "id": "ZKzJAtObq7j2",
        "colab_type": "text"
      },
      "source": [
        "#### 자료형 변환 및 스케일링\n",
        "- X: 실수형으로 정규화\n",
        "- Y: 1-hot encoding"
      ]
    },
    {
      "cell_type": "code",
      "metadata": {
        "id": "y6EUUKaZp8Yt",
        "colab_type": "code",
        "colab": {
          "base_uri": "https://localhost:8080/",
          "height": 35
        },
        "outputId": "4aeae774-ef83-4024-e13f-642278b61dfb"
      },
      "source": [
        "X_train = X_train.astype('float32')/255.0\n",
        "X_test = X_test.astype('float32')/255.0\n",
        "\n",
        "print(X_train.shape, X_train.dtype)"
      ],
      "execution_count": null,
      "outputs": [
        {
          "output_type": "stream",
          "text": [
            "(50000, 32, 32, 3) float32\n"
          ],
          "name": "stdout"
        }
      ]
    },
    {
      "cell_type": "code",
      "metadata": {
        "id": "yQLhukCAp8g8",
        "colab_type": "code",
        "colab": {
          "base_uri": "https://localhost:8080/",
          "height": 269
        },
        "outputId": "3deeb3e6-9bc8-4f31-d004-5605412ab3f1"
      },
      "source": [
        "Y_train = tf.keras.utils.to_categorical(y_train, 100)\n",
        "Y_test = tf.keras.utils.to_categorical(y_test, 100)\n",
        "Y_train[:2]"
      ],
      "execution_count": null,
      "outputs": [
        {
          "output_type": "execute_result",
          "data": {
            "text/plain": [
              "array([[0., 0., 0., 0., 0., 0., 0., 0., 0., 0., 0., 0., 0., 0., 0., 0.,\n",
              "        0., 0., 0., 1., 0., 0., 0., 0., 0., 0., 0., 0., 0., 0., 0., 0.,\n",
              "        0., 0., 0., 0., 0., 0., 0., 0., 0., 0., 0., 0., 0., 0., 0., 0.,\n",
              "        0., 0., 0., 0., 0., 0., 0., 0., 0., 0., 0., 0., 0., 0., 0., 0.,\n",
              "        0., 0., 0., 0., 0., 0., 0., 0., 0., 0., 0., 0., 0., 0., 0., 0.,\n",
              "        0., 0., 0., 0., 0., 0., 0., 0., 0., 0., 0., 0., 0., 0., 0., 0.,\n",
              "        0., 0., 0., 0.],\n",
              "       [0., 0., 0., 0., 0., 0., 0., 0., 0., 0., 0., 0., 0., 0., 0., 0.,\n",
              "        0., 0., 0., 0., 0., 0., 0., 0., 0., 0., 0., 0., 0., 1., 0., 0.,\n",
              "        0., 0., 0., 0., 0., 0., 0., 0., 0., 0., 0., 0., 0., 0., 0., 0.,\n",
              "        0., 0., 0., 0., 0., 0., 0., 0., 0., 0., 0., 0., 0., 0., 0., 0.,\n",
              "        0., 0., 0., 0., 0., 0., 0., 0., 0., 0., 0., 0., 0., 0., 0., 0.,\n",
              "        0., 0., 0., 0., 0., 0., 0., 0., 0., 0., 0., 0., 0., 0., 0., 0.,\n",
              "        0., 0., 0., 0.]], dtype=float32)"
            ]
          },
          "metadata": {
            "tags": []
          },
          "execution_count": 76
        }
      ]
    },
    {
      "cell_type": "markdown",
      "metadata": {
        "id": "N9lsmrK4rP4N",
        "colab_type": "text"
      },
      "source": [
        "### 모형구현"
      ]
    },
    {
      "cell_type": "code",
      "metadata": {
        "id": "-iwk4bDwp8jT",
        "colab_type": "code",
        "colab": {}
      },
      "source": [
        "from keras.models import Sequential\n",
        "from keras.layers import Conv2D, MaxPooling2D, Flatten, Dense, Dropout\n",
        "from keras.layers import Activation\n",
        "from keras.callbacks import ModelCheckpoint, EarlyStopping"
      ],
      "execution_count": null,
      "outputs": []
    },
    {
      "cell_type": "code",
      "metadata": {
        "id": "t2K7bIChp8ll",
        "colab_type": "code",
        "colab": {
          "base_uri": "https://localhost:8080/",
          "height": 845
        },
        "outputId": "bed15c4b-fe6d-414e-e711-186c8f17618f"
      },
      "source": [
        "model = Sequential()\n",
        "\n",
        "# Input Layer\n",
        "model.add(Conv2D(32, (3,3), padding='same', input_shape = X_train.shape[1:]))\n",
        "model.add(Activation('relu'))\n",
        "# MAXPOOL Layer 1\n",
        "model.add(MaxPooling2D(pool_size=(2, 2)))\n",
        "model.add(Activation('relu'))\n",
        "# CONV2D Layer 2\n",
        "model.add(Conv2D(64, (3,3), padding='same'))\n",
        "model.add(Activation('relu'))\n",
        "# MAXPOOL Layer 2\n",
        "model.add(MaxPooling2D(pool_size=(2, 2)))\n",
        "model.add(Activation('relu'))\n",
        "# Add a dropout of 10%\n",
        "model.add(Dropout(0.1))\n",
        "# CONV2D Layer 3\n",
        "model.add(Conv2D(128, (3,3), padding='same'))\n",
        "model.add(Activation('relu'))\n",
        "# MAXPOOL Layer 3\n",
        "model.add(MaxPooling2D(pool_size=(2,2)))\n",
        "# Add dropout of 25%\n",
        "model.add(Dropout(0.25))\n",
        "# flatten \n",
        "model.add(Flatten())\n",
        "# Fully Connected Layer 1\n",
        "model.add(Dense(512))\n",
        "model.add(Activation('relu'))\n",
        "# Adding a dropout of 50%\n",
        "model.add(Dropout(0.5))\n",
        "# Output Layer (Fully Connected Layer 2) \n",
        "model.add(Dense(100))\n",
        "model.add(Activation('softmax'))\n",
        "          \n",
        "model.summary()"
      ],
      "execution_count": null,
      "outputs": [
        {
          "output_type": "stream",
          "text": [
            "Model: \"sequential_3\"\n",
            "_________________________________________________________________\n",
            "Layer (type)                 Output Shape              Param #   \n",
            "=================================================================\n",
            "conv2d_7 (Conv2D)            (None, 32, 32, 32)        896       \n",
            "_________________________________________________________________\n",
            "activation_15 (Activation)   (None, 32, 32, 32)        0         \n",
            "_________________________________________________________________\n",
            "max_pooling2d_7 (MaxPooling2 (None, 16, 16, 32)        0         \n",
            "_________________________________________________________________\n",
            "activation_16 (Activation)   (None, 16, 16, 32)        0         \n",
            "_________________________________________________________________\n",
            "conv2d_8 (Conv2D)            (None, 16, 16, 64)        18496     \n",
            "_________________________________________________________________\n",
            "activation_17 (Activation)   (None, 16, 16, 64)        0         \n",
            "_________________________________________________________________\n",
            "max_pooling2d_8 (MaxPooling2 (None, 8, 8, 64)          0         \n",
            "_________________________________________________________________\n",
            "activation_18 (Activation)   (None, 8, 8, 64)          0         \n",
            "_________________________________________________________________\n",
            "dropout_7 (Dropout)          (None, 8, 8, 64)          0         \n",
            "_________________________________________________________________\n",
            "conv2d_9 (Conv2D)            (None, 8, 8, 128)         73856     \n",
            "_________________________________________________________________\n",
            "activation_19 (Activation)   (None, 8, 8, 128)         0         \n",
            "_________________________________________________________________\n",
            "max_pooling2d_9 (MaxPooling2 (None, 4, 4, 128)         0         \n",
            "_________________________________________________________________\n",
            "dropout_8 (Dropout)          (None, 4, 4, 128)         0         \n",
            "_________________________________________________________________\n",
            "flatten_3 (Flatten)          (None, 2048)              0         \n",
            "_________________________________________________________________\n",
            "dense_5 (Dense)              (None, 512)               1049088   \n",
            "_________________________________________________________________\n",
            "activation_20 (Activation)   (None, 512)               0         \n",
            "_________________________________________________________________\n",
            "dropout_9 (Dropout)          (None, 512)               0         \n",
            "_________________________________________________________________\n",
            "dense_6 (Dense)              (None, 100)               51300     \n",
            "_________________________________________________________________\n",
            "activation_21 (Activation)   (None, 100)               0         \n",
            "=================================================================\n",
            "Total params: 1,193,636\n",
            "Trainable params: 1,193,636\n",
            "Non-trainable params: 0\n",
            "_________________________________________________________________\n"
          ],
          "name": "stdout"
        }
      ]
    },
    {
      "cell_type": "code",
      "metadata": {
        "id": "Dx7RgVQ_rcqu",
        "colab_type": "code",
        "colab": {}
      },
      "source": [
        "opt = tf.keras.optimizers.Adam(lr=0.0001)\n",
        "model.compile(loss='categorical_crossentropy', optimizer=opt, metrics=['accuracy'])"
      ],
      "execution_count": null,
      "outputs": []
    },
    {
      "cell_type": "code",
      "metadata": {
        "id": "P7BC3_b-ycnI",
        "colab_type": "code",
        "colab": {}
      },
      "source": [
        "# callback 선언\n",
        "modelpath = MODEL_DIR + \"cifa-100-{epoch:02d}-{val_loss:.4f}.hdf5\"\n",
        "checkpointer = ModelCheckpoint(filepath = modelpath, monitor = 'val_loss',\n",
        "                              verbose = 1, save_best_only = True)\n",
        "early_stopping_callback = EarlyStopping(monitor = 'val_loss',\n",
        "                                       patience = 20)"
      ],
      "execution_count": null,
      "outputs": []
    },
    {
      "cell_type": "code",
      "metadata": {
        "id": "-ueCAQpdrctu",
        "colab_type": "code",
        "colab": {
          "base_uri": "https://localhost:8080/",
          "height": 1000
        },
        "outputId": "703f42ed-95a7-4299-ac23-3c86dd23cdd5"
      },
      "source": [
        "history = model.fit(X_train, Y_train, epochs=300, batch_size=50,\n",
        "                    validation_data=(X_test, Y_test), verbose=1,\n",
        "                    callbacks=[checkpointer, early_stopping_callback])"
      ],
      "execution_count": null,
      "outputs": [
        {
          "output_type": "stream",
          "text": [
            "Train on 50000 samples, validate on 10000 samples\n",
            "Epoch 1/300\n",
            "50000/50000 [==============================] - 7s 132us/step - loss: 4.3219 - accuracy: 0.0459 - val_loss: 3.9021 - val_accuracy: 0.1198\n",
            "\n",
            "Epoch 00001: val_loss improved from inf to 3.90212, saving model to ./model/cifa-100-01-3.9021.hdf5\n",
            "Epoch 2/300\n",
            " 1500/50000 [..............................] - ETA: 5s - loss: 4.0482 - accuracy: 0.0820"
          ],
          "name": "stdout"
        },
        {
          "output_type": "stream",
          "text": [
            "/usr/local/lib/python3.6/dist-packages/keras/engine/saving.py:165: UserWarning: TensorFlow optimizers do not make it possible to access optimizer attributes or optimizer state after instantiation. As a result, we cannot save the optimizer as part of the model save file.You will have to compile your model again after loading it. Prefer using a Keras optimizer instead (see keras.io/optimizers).\n",
            "  'TensorFlow optimizers do not '\n"
          ],
          "name": "stderr"
        },
        {
          "output_type": "stream",
          "text": [
            "50000/50000 [==============================] - 6s 127us/step - loss: 3.8529 - accuracy: 0.1126 - val_loss: 3.5772 - val_accuracy: 0.1785\n",
            "\n",
            "Epoch 00002: val_loss improved from 3.90212 to 3.57717, saving model to ./model/cifa-100-02-3.5772.hdf5\n",
            "Epoch 3/300\n",
            "50000/50000 [==============================] - 6s 128us/step - loss: 3.6259 - accuracy: 0.1491 - val_loss: 3.3889 - val_accuracy: 0.2105\n",
            "\n",
            "Epoch 00003: val_loss improved from 3.57717 to 3.38890, saving model to ./model/cifa-100-03-3.3889.hdf5\n",
            "Epoch 4/300\n",
            "50000/50000 [==============================] - 6s 126us/step - loss: 3.4671 - accuracy: 0.1766 - val_loss: 3.2414 - val_accuracy: 0.2356\n",
            "\n",
            "Epoch 00004: val_loss improved from 3.38890 to 3.24142, saving model to ./model/cifa-100-04-3.2414.hdf5\n",
            "Epoch 5/300\n",
            "50000/50000 [==============================] - 6s 126us/step - loss: 3.3344 - accuracy: 0.1981 - val_loss: 3.1074 - val_accuracy: 0.2623\n",
            "\n",
            "Epoch 00005: val_loss improved from 3.24142 to 3.10739, saving model to ./model/cifa-100-05-3.1074.hdf5\n",
            "Epoch 6/300\n",
            "50000/50000 [==============================] - 6s 126us/step - loss: 3.2149 - accuracy: 0.2206 - val_loss: 3.0149 - val_accuracy: 0.2734\n",
            "\n",
            "Epoch 00006: val_loss improved from 3.10739 to 3.01486, saving model to ./model/cifa-100-06-3.0149.hdf5\n",
            "Epoch 7/300\n",
            "50000/50000 [==============================] - 6s 125us/step - loss: 3.1144 - accuracy: 0.2392 - val_loss: 2.9187 - val_accuracy: 0.2965\n",
            "\n",
            "Epoch 00007: val_loss improved from 3.01486 to 2.91869, saving model to ./model/cifa-100-07-2.9187.hdf5\n",
            "Epoch 8/300\n",
            "50000/50000 [==============================] - 6s 127us/step - loss: 3.0311 - accuracy: 0.2581 - val_loss: 2.8580 - val_accuracy: 0.3054\n",
            "\n",
            "Epoch 00008: val_loss improved from 2.91869 to 2.85795, saving model to ./model/cifa-100-08-2.8580.hdf5\n",
            "Epoch 9/300\n",
            "50000/50000 [==============================] - 6s 124us/step - loss: 2.9569 - accuracy: 0.2697 - val_loss: 2.7768 - val_accuracy: 0.3191\n",
            "\n",
            "Epoch 00009: val_loss improved from 2.85795 to 2.77676, saving model to ./model/cifa-100-09-2.7768.hdf5\n",
            "Epoch 10/300\n",
            "50000/50000 [==============================] - 6s 124us/step - loss: 2.8897 - accuracy: 0.2842 - val_loss: 2.7190 - val_accuracy: 0.3330\n",
            "\n",
            "Epoch 00010: val_loss improved from 2.77676 to 2.71905, saving model to ./model/cifa-100-10-2.7190.hdf5\n",
            "Epoch 11/300\n",
            "50000/50000 [==============================] - 6s 124us/step - loss: 2.8256 - accuracy: 0.2936 - val_loss: 2.6819 - val_accuracy: 0.3351\n",
            "\n",
            "Epoch 00011: val_loss improved from 2.71905 to 2.68190, saving model to ./model/cifa-100-11-2.6819.hdf5\n",
            "Epoch 12/300\n",
            "50000/50000 [==============================] - 6s 124us/step - loss: 2.7719 - accuracy: 0.3077 - val_loss: 2.6539 - val_accuracy: 0.3441\n",
            "\n",
            "Epoch 00012: val_loss improved from 2.68190 to 2.65391, saving model to ./model/cifa-100-12-2.6539.hdf5\n",
            "Epoch 13/300\n",
            "50000/50000 [==============================] - 6s 122us/step - loss: 2.7219 - accuracy: 0.3167 - val_loss: 2.5986 - val_accuracy: 0.3571\n",
            "\n",
            "Epoch 00013: val_loss improved from 2.65391 to 2.59861, saving model to ./model/cifa-100-13-2.5986.hdf5\n",
            "Epoch 14/300\n",
            "50000/50000 [==============================] - 6s 122us/step - loss: 2.6725 - accuracy: 0.3248 - val_loss: 2.5508 - val_accuracy: 0.3638\n",
            "\n",
            "Epoch 00014: val_loss improved from 2.59861 to 2.55080, saving model to ./model/cifa-100-14-2.5508.hdf5\n",
            "Epoch 15/300\n",
            "50000/50000 [==============================] - 6s 122us/step - loss: 2.6302 - accuracy: 0.3351 - val_loss: 2.5217 - val_accuracy: 0.3707\n",
            "\n",
            "Epoch 00015: val_loss improved from 2.55080 to 2.52168, saving model to ./model/cifa-100-15-2.5217.hdf5\n",
            "Epoch 16/300\n",
            "50000/50000 [==============================] - 6s 121us/step - loss: 2.5825 - accuracy: 0.3441 - val_loss: 2.4938 - val_accuracy: 0.3790\n",
            "\n",
            "Epoch 00016: val_loss improved from 2.52168 to 2.49378, saving model to ./model/cifa-100-16-2.4938.hdf5\n",
            "Epoch 17/300\n",
            "50000/50000 [==============================] - 6s 120us/step - loss: 2.5345 - accuracy: 0.3541 - val_loss: 2.4397 - val_accuracy: 0.3856\n",
            "\n",
            "Epoch 00017: val_loss improved from 2.49378 to 2.43968, saving model to ./model/cifa-100-17-2.4397.hdf5\n",
            "Epoch 18/300\n",
            "50000/50000 [==============================] - 6s 120us/step - loss: 2.4984 - accuracy: 0.3614 - val_loss: 2.4265 - val_accuracy: 0.3908\n",
            "\n",
            "Epoch 00018: val_loss improved from 2.43968 to 2.42647, saving model to ./model/cifa-100-18-2.4265.hdf5\n",
            "Epoch 19/300\n",
            "50000/50000 [==============================] - 6s 119us/step - loss: 2.4652 - accuracy: 0.3697 - val_loss: 2.3877 - val_accuracy: 0.3953\n",
            "\n",
            "Epoch 00019: val_loss improved from 2.42647 to 2.38767, saving model to ./model/cifa-100-19-2.3877.hdf5\n",
            "Epoch 20/300\n",
            "50000/50000 [==============================] - 6s 118us/step - loss: 2.4264 - accuracy: 0.3780 - val_loss: 2.3661 - val_accuracy: 0.3979\n",
            "\n",
            "Epoch 00020: val_loss improved from 2.38767 to 2.36605, saving model to ./model/cifa-100-20-2.3661.hdf5\n",
            "Epoch 21/300\n",
            "50000/50000 [==============================] - 6s 118us/step - loss: 2.3863 - accuracy: 0.3856 - val_loss: 2.3433 - val_accuracy: 0.4015\n",
            "\n",
            "Epoch 00021: val_loss improved from 2.36605 to 2.34330, saving model to ./model/cifa-100-21-2.3433.hdf5\n",
            "Epoch 22/300\n",
            "50000/50000 [==============================] - 6s 118us/step - loss: 2.3619 - accuracy: 0.3881 - val_loss: 2.3190 - val_accuracy: 0.4093\n",
            "\n",
            "Epoch 00022: val_loss improved from 2.34330 to 2.31899, saving model to ./model/cifa-100-22-2.3190.hdf5\n",
            "Epoch 23/300\n",
            "50000/50000 [==============================] - 6s 119us/step - loss: 2.3263 - accuracy: 0.3968 - val_loss: 2.2901 - val_accuracy: 0.4150\n",
            "\n",
            "Epoch 00023: val_loss improved from 2.31899 to 2.29009, saving model to ./model/cifa-100-23-2.2901.hdf5\n",
            "Epoch 24/300\n",
            "50000/50000 [==============================] - 6s 123us/step - loss: 2.2945 - accuracy: 0.4017 - val_loss: 2.2913 - val_accuracy: 0.4164\n",
            "\n",
            "Epoch 00024: val_loss did not improve from 2.29009\n",
            "Epoch 25/300\n",
            "50000/50000 [==============================] - 6s 128us/step - loss: 2.2653 - accuracy: 0.4113 - val_loss: 2.2740 - val_accuracy: 0.4187\n",
            "\n",
            "Epoch 00025: val_loss improved from 2.29009 to 2.27405, saving model to ./model/cifa-100-25-2.2740.hdf5\n",
            "Epoch 26/300\n",
            "50000/50000 [==============================] - 6s 119us/step - loss: 2.2308 - accuracy: 0.4174 - val_loss: 2.2506 - val_accuracy: 0.4194\n",
            "\n",
            "Epoch 00026: val_loss improved from 2.27405 to 2.25065, saving model to ./model/cifa-100-26-2.2506.hdf5\n",
            "Epoch 27/300\n",
            "50000/50000 [==============================] - 6s 118us/step - loss: 2.2050 - accuracy: 0.4207 - val_loss: 2.2281 - val_accuracy: 0.4303\n",
            "\n",
            "Epoch 00027: val_loss improved from 2.25065 to 2.22812, saving model to ./model/cifa-100-27-2.2281.hdf5\n",
            "Epoch 28/300\n",
            "50000/50000 [==============================] - 6s 116us/step - loss: 2.1855 - accuracy: 0.4272 - val_loss: 2.2211 - val_accuracy: 0.4306\n",
            "\n",
            "Epoch 00028: val_loss improved from 2.22812 to 2.22114, saving model to ./model/cifa-100-28-2.2211.hdf5\n",
            "Epoch 29/300\n",
            "50000/50000 [==============================] - 6s 120us/step - loss: 2.1479 - accuracy: 0.4331 - val_loss: 2.1998 - val_accuracy: 0.4357\n",
            "\n",
            "Epoch 00029: val_loss improved from 2.22114 to 2.19976, saving model to ./model/cifa-100-29-2.1998.hdf5\n",
            "Epoch 30/300\n",
            "50000/50000 [==============================] - 6s 117us/step - loss: 2.1256 - accuracy: 0.4377 - val_loss: 2.1931 - val_accuracy: 0.4380\n",
            "\n",
            "Epoch 00030: val_loss improved from 2.19976 to 2.19314, saving model to ./model/cifa-100-30-2.1931.hdf5\n",
            "Epoch 31/300\n",
            "50000/50000 [==============================] - 6s 116us/step - loss: 2.1016 - accuracy: 0.4437 - val_loss: 2.1656 - val_accuracy: 0.4400\n",
            "\n",
            "Epoch 00031: val_loss improved from 2.19314 to 2.16561, saving model to ./model/cifa-100-31-2.1656.hdf5\n",
            "Epoch 32/300\n",
            "50000/50000 [==============================] - 6s 117us/step - loss: 2.0686 - accuracy: 0.4503 - val_loss: 2.1805 - val_accuracy: 0.4428\n",
            "\n",
            "Epoch 00032: val_loss did not improve from 2.16561\n",
            "Epoch 33/300\n",
            "50000/50000 [==============================] - 6s 118us/step - loss: 2.0466 - accuracy: 0.4554 - val_loss: 2.1747 - val_accuracy: 0.4427\n",
            "\n",
            "Epoch 00033: val_loss did not improve from 2.16561\n",
            "Epoch 34/300\n",
            "50000/50000 [==============================] - 6s 116us/step - loss: 2.0316 - accuracy: 0.4608 - val_loss: 2.1464 - val_accuracy: 0.4436\n",
            "\n",
            "Epoch 00034: val_loss improved from 2.16561 to 2.14638, saving model to ./model/cifa-100-34-2.1464.hdf5\n",
            "Epoch 35/300\n",
            "50000/50000 [==============================] - 6s 117us/step - loss: 2.0070 - accuracy: 0.4636 - val_loss: 2.1235 - val_accuracy: 0.4497\n",
            "\n",
            "Epoch 00035: val_loss improved from 2.14638 to 2.12347, saving model to ./model/cifa-100-35-2.1235.hdf5\n",
            "Epoch 36/300\n",
            "50000/50000 [==============================] - 6s 118us/step - loss: 1.9772 - accuracy: 0.4701 - val_loss: 2.1120 - val_accuracy: 0.4542\n",
            "\n",
            "Epoch 00036: val_loss improved from 2.12347 to 2.11204, saving model to ./model/cifa-100-36-2.1120.hdf5\n",
            "Epoch 37/300\n",
            "50000/50000 [==============================] - 6s 116us/step - loss: 1.9604 - accuracy: 0.4766 - val_loss: 2.1184 - val_accuracy: 0.4547\n",
            "\n",
            "Epoch 00037: val_loss did not improve from 2.11204\n",
            "Epoch 38/300\n",
            "50000/50000 [==============================] - 6s 117us/step - loss: 1.9248 - accuracy: 0.4816 - val_loss: 2.1001 - val_accuracy: 0.4565\n",
            "\n",
            "Epoch 00038: val_loss improved from 2.11204 to 2.10013, saving model to ./model/cifa-100-38-2.1001.hdf5\n",
            "Epoch 39/300\n",
            "50000/50000 [==============================] - 6s 117us/step - loss: 1.9126 - accuracy: 0.4842 - val_loss: 2.1178 - val_accuracy: 0.4499\n",
            "\n",
            "Epoch 00039: val_loss did not improve from 2.10013\n",
            "Epoch 40/300\n",
            "50000/50000 [==============================] - 6s 116us/step - loss: 1.8988 - accuracy: 0.4861 - val_loss: 2.0957 - val_accuracy: 0.4573\n",
            "\n",
            "Epoch 00040: val_loss improved from 2.10013 to 2.09570, saving model to ./model/cifa-100-40-2.0957.hdf5\n",
            "Epoch 41/300\n",
            "50000/50000 [==============================] - 6s 119us/step - loss: 1.8668 - accuracy: 0.4946 - val_loss: 2.0753 - val_accuracy: 0.4590\n",
            "\n",
            "Epoch 00041: val_loss improved from 2.09570 to 2.07533, saving model to ./model/cifa-100-41-2.0753.hdf5\n",
            "Epoch 42/300\n",
            "50000/50000 [==============================] - 6s 116us/step - loss: 1.8511 - accuracy: 0.4998 - val_loss: 2.0726 - val_accuracy: 0.4618\n",
            "\n",
            "Epoch 00042: val_loss improved from 2.07533 to 2.07265, saving model to ./model/cifa-100-42-2.0726.hdf5\n",
            "Epoch 43/300\n",
            "50000/50000 [==============================] - 6s 115us/step - loss: 1.8317 - accuracy: 0.5019 - val_loss: 2.0606 - val_accuracy: 0.4651\n",
            "\n",
            "Epoch 00043: val_loss improved from 2.07265 to 2.06058, saving model to ./model/cifa-100-43-2.0606.hdf5\n",
            "Epoch 44/300\n",
            "50000/50000 [==============================] - 6s 114us/step - loss: 1.8084 - accuracy: 0.5060 - val_loss: 2.0614 - val_accuracy: 0.4692\n",
            "\n",
            "Epoch 00044: val_loss did not improve from 2.06058\n",
            "Epoch 45/300\n",
            "50000/50000 [==============================] - 6s 113us/step - loss: 1.7882 - accuracy: 0.5086 - val_loss: 2.0531 - val_accuracy: 0.4680\n",
            "\n",
            "Epoch 00045: val_loss improved from 2.06058 to 2.05315, saving model to ./model/cifa-100-45-2.0531.hdf5\n",
            "Epoch 46/300\n",
            "50000/50000 [==============================] - 6s 115us/step - loss: 1.7760 - accuracy: 0.5151 - val_loss: 2.0506 - val_accuracy: 0.4683\n",
            "\n",
            "Epoch 00046: val_loss improved from 2.05315 to 2.05057, saving model to ./model/cifa-100-46-2.0506.hdf5\n",
            "Epoch 47/300\n",
            "50000/50000 [==============================] - 6s 114us/step - loss: 1.7583 - accuracy: 0.5183 - val_loss: 2.0401 - val_accuracy: 0.4700\n",
            "\n",
            "Epoch 00047: val_loss improved from 2.05057 to 2.04013, saving model to ./model/cifa-100-47-2.0401.hdf5\n",
            "Epoch 48/300\n",
            "50000/50000 [==============================] - 6s 115us/step - loss: 1.7296 - accuracy: 0.5232 - val_loss: 2.0398 - val_accuracy: 0.4754\n",
            "\n",
            "Epoch 00048: val_loss improved from 2.04013 to 2.03978, saving model to ./model/cifa-100-48-2.0398.hdf5\n",
            "Epoch 49/300\n",
            "50000/50000 [==============================] - 6s 115us/step - loss: 1.7171 - accuracy: 0.5286 - val_loss: 2.0364 - val_accuracy: 0.4716\n",
            "\n",
            "Epoch 00049: val_loss improved from 2.03978 to 2.03638, saving model to ./model/cifa-100-49-2.0364.hdf5\n",
            "Epoch 50/300\n",
            "50000/50000 [==============================] - 6s 115us/step - loss: 1.7011 - accuracy: 0.5294 - val_loss: 2.0260 - val_accuracy: 0.4753\n",
            "\n",
            "Epoch 00050: val_loss improved from 2.03638 to 2.02597, saving model to ./model/cifa-100-50-2.0260.hdf5\n",
            "Epoch 51/300\n",
            "50000/50000 [==============================] - 6s 114us/step - loss: 1.6876 - accuracy: 0.5323 - val_loss: 2.0256 - val_accuracy: 0.4730\n",
            "\n",
            "Epoch 00051: val_loss improved from 2.02597 to 2.02562, saving model to ./model/cifa-100-51-2.0256.hdf5\n",
            "Epoch 52/300\n",
            "50000/50000 [==============================] - 6s 113us/step - loss: 1.6645 - accuracy: 0.5386 - val_loss: 2.0135 - val_accuracy: 0.4801\n",
            "\n",
            "Epoch 00052: val_loss improved from 2.02562 to 2.01347, saving model to ./model/cifa-100-52-2.0135.hdf5\n",
            "Epoch 53/300\n",
            "50000/50000 [==============================] - 6s 114us/step - loss: 1.6472 - accuracy: 0.5427 - val_loss: 2.0264 - val_accuracy: 0.4747\n",
            "\n",
            "Epoch 00053: val_loss did not improve from 2.01347\n",
            "Epoch 54/300\n",
            "50000/50000 [==============================] - 6s 114us/step - loss: 1.6331 - accuracy: 0.5471 - val_loss: 2.0153 - val_accuracy: 0.4816\n",
            "\n",
            "Epoch 00054: val_loss did not improve from 2.01347\n",
            "Epoch 55/300\n",
            "50000/50000 [==============================] - 6s 114us/step - loss: 1.6141 - accuracy: 0.5491 - val_loss: 2.0172 - val_accuracy: 0.4794\n",
            "\n",
            "Epoch 00055: val_loss did not improve from 2.01347\n",
            "Epoch 56/300\n",
            "50000/50000 [==============================] - 6s 116us/step - loss: 1.5989 - accuracy: 0.5542 - val_loss: 2.0090 - val_accuracy: 0.4814\n",
            "\n",
            "Epoch 00056: val_loss improved from 2.01347 to 2.00904, saving model to ./model/cifa-100-56-2.0090.hdf5\n",
            "Epoch 57/300\n",
            "50000/50000 [==============================] - 6s 116us/step - loss: 1.5771 - accuracy: 0.5564 - val_loss: 2.0064 - val_accuracy: 0.4845\n",
            "\n",
            "Epoch 00057: val_loss improved from 2.00904 to 2.00643, saving model to ./model/cifa-100-57-2.0064.hdf5\n",
            "Epoch 58/300\n",
            "50000/50000 [==============================] - 6s 116us/step - loss: 1.5647 - accuracy: 0.5637 - val_loss: 2.0073 - val_accuracy: 0.4802\n",
            "\n",
            "Epoch 00058: val_loss did not improve from 2.00643\n",
            "Epoch 59/300\n",
            "50000/50000 [==============================] - 6s 115us/step - loss: 1.5458 - accuracy: 0.5677 - val_loss: 1.9909 - val_accuracy: 0.4856\n",
            "\n",
            "Epoch 00059: val_loss improved from 2.00643 to 1.99086, saving model to ./model/cifa-100-59-1.9909.hdf5\n",
            "Epoch 60/300\n",
            "50000/50000 [==============================] - 6s 113us/step - loss: 1.5320 - accuracy: 0.5677 - val_loss: 1.9964 - val_accuracy: 0.4855\n",
            "\n",
            "Epoch 00060: val_loss did not improve from 1.99086\n",
            "Epoch 61/300\n",
            "50000/50000 [==============================] - 6s 115us/step - loss: 1.5343 - accuracy: 0.5681 - val_loss: 1.9882 - val_accuracy: 0.4894\n",
            "\n",
            "Epoch 00061: val_loss improved from 1.99086 to 1.98821, saving model to ./model/cifa-100-61-1.9882.hdf5\n",
            "Epoch 62/300\n",
            "50000/50000 [==============================] - 6s 114us/step - loss: 1.5030 - accuracy: 0.5734 - val_loss: 1.9997 - val_accuracy: 0.4859\n",
            "\n",
            "Epoch 00062: val_loss did not improve from 1.98821\n",
            "Epoch 63/300\n",
            "50000/50000 [==============================] - 6s 115us/step - loss: 1.4909 - accuracy: 0.5772 - val_loss: 2.0131 - val_accuracy: 0.4796\n",
            "\n",
            "Epoch 00063: val_loss did not improve from 1.98821\n",
            "Epoch 64/300\n",
            "50000/50000 [==============================] - 6s 115us/step - loss: 1.4818 - accuracy: 0.5797 - val_loss: 1.9854 - val_accuracy: 0.4868\n",
            "\n",
            "Epoch 00064: val_loss improved from 1.98821 to 1.98541, saving model to ./model/cifa-100-64-1.9854.hdf5\n",
            "Epoch 65/300\n",
            "50000/50000 [==============================] - 6s 114us/step - loss: 1.4632 - accuracy: 0.5809 - val_loss: 1.9957 - val_accuracy: 0.4891\n",
            "\n",
            "Epoch 00065: val_loss did not improve from 1.98541\n",
            "Epoch 66/300\n",
            "50000/50000 [==============================] - 6s 115us/step - loss: 1.4492 - accuracy: 0.5878 - val_loss: 1.9926 - val_accuracy: 0.4857\n",
            "\n",
            "Epoch 00066: val_loss did not improve from 1.98541\n",
            "Epoch 67/300\n",
            "50000/50000 [==============================] - 6s 114us/step - loss: 1.4301 - accuracy: 0.5916 - val_loss: 1.9897 - val_accuracy: 0.4882\n",
            "\n",
            "Epoch 00067: val_loss did not improve from 1.98541\n",
            "Epoch 68/300\n",
            "50000/50000 [==============================] - 6s 113us/step - loss: 1.4194 - accuracy: 0.5921 - val_loss: 1.9894 - val_accuracy: 0.4869\n",
            "\n",
            "Epoch 00068: val_loss did not improve from 1.98541\n",
            "Epoch 69/300\n",
            "50000/50000 [==============================] - 6s 115us/step - loss: 1.4109 - accuracy: 0.5933 - val_loss: 2.0001 - val_accuracy: 0.4879\n",
            "\n",
            "Epoch 00069: val_loss did not improve from 1.98541\n",
            "Epoch 70/300\n",
            "50000/50000 [==============================] - 6s 115us/step - loss: 1.3982 - accuracy: 0.6004 - val_loss: 2.0052 - val_accuracy: 0.4894\n",
            "\n",
            "Epoch 00070: val_loss did not improve from 1.98541\n",
            "Epoch 71/300\n",
            "50000/50000 [==============================] - 6s 117us/step - loss: 1.3804 - accuracy: 0.6031 - val_loss: 1.9941 - val_accuracy: 0.4861\n",
            "\n",
            "Epoch 00071: val_loss did not improve from 1.98541\n",
            "Epoch 72/300\n",
            "50000/50000 [==============================] - 6s 115us/step - loss: 1.3731 - accuracy: 0.6020 - val_loss: 1.9929 - val_accuracy: 0.4902\n",
            "\n",
            "Epoch 00072: val_loss did not improve from 1.98541\n",
            "Epoch 73/300\n",
            "50000/50000 [==============================] - 6s 115us/step - loss: 1.3598 - accuracy: 0.6086 - val_loss: 1.9962 - val_accuracy: 0.4896\n",
            "\n",
            "Epoch 00073: val_loss did not improve from 1.98541\n",
            "Epoch 74/300\n",
            "50000/50000 [==============================] - 6s 113us/step - loss: 1.3521 - accuracy: 0.6093 - val_loss: 1.9987 - val_accuracy: 0.4927\n",
            "\n",
            "Epoch 00074: val_loss did not improve from 1.98541\n",
            "Epoch 75/300\n",
            "50000/50000 [==============================] - 6s 113us/step - loss: 1.3358 - accuracy: 0.6149 - val_loss: 1.9938 - val_accuracy: 0.4914\n",
            "\n",
            "Epoch 00075: val_loss did not improve from 1.98541\n",
            "Epoch 76/300\n",
            "50000/50000 [==============================] - 6s 114us/step - loss: 1.3261 - accuracy: 0.6157 - val_loss: 1.9944 - val_accuracy: 0.4899\n",
            "\n",
            "Epoch 00076: val_loss did not improve from 1.98541\n",
            "Epoch 77/300\n",
            "50000/50000 [==============================] - 6s 117us/step - loss: 1.3141 - accuracy: 0.6169 - val_loss: 1.9955 - val_accuracy: 0.4909\n",
            "\n",
            "Epoch 00077: val_loss did not improve from 1.98541\n",
            "Epoch 78/300\n",
            "50000/50000 [==============================] - 6s 124us/step - loss: 1.3117 - accuracy: 0.6177 - val_loss: 2.0075 - val_accuracy: 0.4933\n",
            "\n",
            "Epoch 00078: val_loss did not improve from 1.98541\n",
            "Epoch 79/300\n",
            "50000/50000 [==============================] - 6s 122us/step - loss: 1.2957 - accuracy: 0.6235 - val_loss: 2.0045 - val_accuracy: 0.4911\n",
            "\n",
            "Epoch 00079: val_loss did not improve from 1.98541\n",
            "Epoch 80/300\n",
            "50000/50000 [==============================] - 6s 116us/step - loss: 1.2842 - accuracy: 0.6276 - val_loss: 2.0030 - val_accuracy: 0.4890\n",
            "\n",
            "Epoch 00080: val_loss did not improve from 1.98541\n",
            "Epoch 81/300\n",
            "50000/50000 [==============================] - 6s 115us/step - loss: 1.2729 - accuracy: 0.6282 - val_loss: 1.9957 - val_accuracy: 0.4907\n",
            "\n",
            "Epoch 00081: val_loss did not improve from 1.98541\n",
            "Epoch 82/300\n",
            "50000/50000 [==============================] - 6s 115us/step - loss: 1.2687 - accuracy: 0.6301 - val_loss: 1.9873 - val_accuracy: 0.4922\n",
            "\n",
            "Epoch 00082: val_loss did not improve from 1.98541\n",
            "Epoch 83/300\n",
            "50000/50000 [==============================] - 6s 115us/step - loss: 1.2459 - accuracy: 0.6353 - val_loss: 1.9989 - val_accuracy: 0.4914\n",
            "\n",
            "Epoch 00083: val_loss did not improve from 1.98541\n",
            "Epoch 84/300\n",
            "50000/50000 [==============================] - 6s 116us/step - loss: 1.2383 - accuracy: 0.6369 - val_loss: 1.9958 - val_accuracy: 0.4933\n",
            "\n",
            "Epoch 00084: val_loss did not improve from 1.98541\n"
          ],
          "name": "stdout"
        }
      ]
    },
    {
      "cell_type": "code",
      "metadata": {
        "id": "-KFKwhCgF_1G",
        "colab_type": "code",
        "colab": {}
      },
      "source": [
        "from keras.models import load_model\n",
        "#del model"
      ],
      "execution_count": null,
      "outputs": []
    },
    {
      "cell_type": "code",
      "metadata": {
        "id": "ptm-pj-_4ojF",
        "colab_type": "code",
        "colab": {
          "base_uri": "https://localhost:8080/",
          "height": 430
        },
        "outputId": "da15cd69-19ae-4595-bc6c-ac38f9de6f3f"
      },
      "source": [
        "model = load_model('model/cifar-100-68-1.9815.hdf5')"
      ],
      "execution_count": null,
      "outputs": [
        {
          "output_type": "error",
          "ename": "OSError",
          "evalue": "ignored",
          "traceback": [
            "\u001b[0;31m---------------------------------------------------------------------------\u001b[0m",
            "\u001b[0;31mOSError\u001b[0m                                   Traceback (most recent call last)",
            "\u001b[0;32m<ipython-input-66-215f08fc8f1e>\u001b[0m in \u001b[0;36m<module>\u001b[0;34m()\u001b[0m\n\u001b[0;32m----> 1\u001b[0;31m \u001b[0mmodel\u001b[0m \u001b[0;34m=\u001b[0m \u001b[0mload_model\u001b[0m\u001b[0;34m(\u001b[0m\u001b[0;34m'model/cifar-100-68-1.9815.hdf5'\u001b[0m\u001b[0;34m)\u001b[0m\u001b[0;34m\u001b[0m\u001b[0;34m\u001b[0m\u001b[0m\n\u001b[0m",
            "\u001b[0;32m/usr/local/lib/python3.6/dist-packages/keras/engine/saving.py\u001b[0m in \u001b[0;36mload_wrapper\u001b[0;34m(*args, **kwargs)\u001b[0m\n\u001b[1;32m    490\u001b[0m                 \u001b[0mos\u001b[0m\u001b[0;34m.\u001b[0m\u001b[0mremove\u001b[0m\u001b[0;34m(\u001b[0m\u001b[0mtmp_filepath\u001b[0m\u001b[0;34m)\u001b[0m\u001b[0;34m\u001b[0m\u001b[0;34m\u001b[0m\u001b[0m\n\u001b[1;32m    491\u001b[0m             \u001b[0;32mreturn\u001b[0m \u001b[0mres\u001b[0m\u001b[0;34m\u001b[0m\u001b[0;34m\u001b[0m\u001b[0m\n\u001b[0;32m--> 492\u001b[0;31m         \u001b[0;32mreturn\u001b[0m \u001b[0mload_function\u001b[0m\u001b[0;34m(\u001b[0m\u001b[0;34m*\u001b[0m\u001b[0margs\u001b[0m\u001b[0;34m,\u001b[0m \u001b[0;34m**\u001b[0m\u001b[0mkwargs\u001b[0m\u001b[0;34m)\u001b[0m\u001b[0;34m\u001b[0m\u001b[0;34m\u001b[0m\u001b[0m\n\u001b[0m\u001b[1;32m    493\u001b[0m \u001b[0;34m\u001b[0m\u001b[0m\n\u001b[1;32m    494\u001b[0m     \u001b[0;32mreturn\u001b[0m \u001b[0mload_wrapper\u001b[0m\u001b[0;34m\u001b[0m\u001b[0;34m\u001b[0m\u001b[0m\n",
            "\u001b[0;32m/usr/local/lib/python3.6/dist-packages/keras/engine/saving.py\u001b[0m in \u001b[0;36mload_model\u001b[0;34m(filepath, custom_objects, compile)\u001b[0m\n\u001b[1;32m    581\u001b[0m \u001b[0;34m\u001b[0m\u001b[0m\n\u001b[1;32m    582\u001b[0m     \u001b[0;32mif\u001b[0m \u001b[0mH5Dict\u001b[0m\u001b[0;34m.\u001b[0m\u001b[0mis_supported_type\u001b[0m\u001b[0;34m(\u001b[0m\u001b[0mfilepath\u001b[0m\u001b[0;34m)\u001b[0m\u001b[0;34m:\u001b[0m\u001b[0;34m\u001b[0m\u001b[0;34m\u001b[0m\u001b[0m\n\u001b[0;32m--> 583\u001b[0;31m         \u001b[0;32mwith\u001b[0m \u001b[0mH5Dict\u001b[0m\u001b[0;34m(\u001b[0m\u001b[0mfilepath\u001b[0m\u001b[0;34m,\u001b[0m \u001b[0mmode\u001b[0m\u001b[0;34m=\u001b[0m\u001b[0;34m'r'\u001b[0m\u001b[0;34m)\u001b[0m \u001b[0;32mas\u001b[0m \u001b[0mh5dict\u001b[0m\u001b[0;34m:\u001b[0m\u001b[0;34m\u001b[0m\u001b[0;34m\u001b[0m\u001b[0m\n\u001b[0m\u001b[1;32m    584\u001b[0m             \u001b[0mmodel\u001b[0m \u001b[0;34m=\u001b[0m \u001b[0m_deserialize_model\u001b[0m\u001b[0;34m(\u001b[0m\u001b[0mh5dict\u001b[0m\u001b[0;34m,\u001b[0m \u001b[0mcustom_objects\u001b[0m\u001b[0;34m,\u001b[0m \u001b[0mcompile\u001b[0m\u001b[0;34m)\u001b[0m\u001b[0;34m\u001b[0m\u001b[0;34m\u001b[0m\u001b[0m\n\u001b[1;32m    585\u001b[0m     \u001b[0;32melif\u001b[0m \u001b[0mhasattr\u001b[0m\u001b[0;34m(\u001b[0m\u001b[0mfilepath\u001b[0m\u001b[0;34m,\u001b[0m \u001b[0;34m'write'\u001b[0m\u001b[0;34m)\u001b[0m \u001b[0;32mand\u001b[0m \u001b[0mcallable\u001b[0m\u001b[0;34m(\u001b[0m\u001b[0mfilepath\u001b[0m\u001b[0;34m.\u001b[0m\u001b[0mwrite\u001b[0m\u001b[0;34m)\u001b[0m\u001b[0;34m:\u001b[0m\u001b[0;34m\u001b[0m\u001b[0;34m\u001b[0m\u001b[0m\n",
            "\u001b[0;32m/usr/local/lib/python3.6/dist-packages/keras/utils/io_utils.py\u001b[0m in \u001b[0;36m__init__\u001b[0;34m(self, path, mode)\u001b[0m\n\u001b[1;32m    189\u001b[0m             \u001b[0mself\u001b[0m\u001b[0;34m.\u001b[0m\u001b[0m_is_file\u001b[0m \u001b[0;34m=\u001b[0m \u001b[0;32mFalse\u001b[0m\u001b[0;34m\u001b[0m\u001b[0;34m\u001b[0m\u001b[0m\n\u001b[1;32m    190\u001b[0m         \u001b[0;32melif\u001b[0m \u001b[0misinstance\u001b[0m\u001b[0;34m(\u001b[0m\u001b[0mpath\u001b[0m\u001b[0;34m,\u001b[0m \u001b[0msix\u001b[0m\u001b[0;34m.\u001b[0m\u001b[0mstring_types\u001b[0m\u001b[0;34m)\u001b[0m \u001b[0;32mor\u001b[0m \u001b[0m_is_path_instance\u001b[0m\u001b[0;34m(\u001b[0m\u001b[0mpath\u001b[0m\u001b[0;34m)\u001b[0m\u001b[0;34m:\u001b[0m\u001b[0;34m\u001b[0m\u001b[0;34m\u001b[0m\u001b[0m\n\u001b[0;32m--> 191\u001b[0;31m             \u001b[0mself\u001b[0m\u001b[0;34m.\u001b[0m\u001b[0mdata\u001b[0m \u001b[0;34m=\u001b[0m \u001b[0mh5py\u001b[0m\u001b[0;34m.\u001b[0m\u001b[0mFile\u001b[0m\u001b[0;34m(\u001b[0m\u001b[0mpath\u001b[0m\u001b[0;34m,\u001b[0m \u001b[0mmode\u001b[0m\u001b[0;34m=\u001b[0m\u001b[0mmode\u001b[0m\u001b[0;34m)\u001b[0m\u001b[0;34m\u001b[0m\u001b[0;34m\u001b[0m\u001b[0m\n\u001b[0m\u001b[1;32m    192\u001b[0m             \u001b[0mself\u001b[0m\u001b[0;34m.\u001b[0m\u001b[0m_is_file\u001b[0m \u001b[0;34m=\u001b[0m \u001b[0;32mTrue\u001b[0m\u001b[0;34m\u001b[0m\u001b[0;34m\u001b[0m\u001b[0m\n\u001b[1;32m    193\u001b[0m         \u001b[0;32melif\u001b[0m \u001b[0misinstance\u001b[0m\u001b[0;34m(\u001b[0m\u001b[0mpath\u001b[0m\u001b[0;34m,\u001b[0m \u001b[0mdict\u001b[0m\u001b[0;34m)\u001b[0m\u001b[0;34m:\u001b[0m\u001b[0;34m\u001b[0m\u001b[0;34m\u001b[0m\u001b[0m\n",
            "\u001b[0;32m/usr/local/lib/python3.6/dist-packages/h5py/_hl/files.py\u001b[0m in \u001b[0;36m__init__\u001b[0;34m(self, name, mode, driver, libver, userblock_size, swmr, rdcc_nslots, rdcc_nbytes, rdcc_w0, track_order, **kwds)\u001b[0m\n\u001b[1;32m    406\u001b[0m                 fid = make_fid(name, mode, userblock_size,\n\u001b[1;32m    407\u001b[0m                                \u001b[0mfapl\u001b[0m\u001b[0;34m,\u001b[0m \u001b[0mfcpl\u001b[0m\u001b[0;34m=\u001b[0m\u001b[0mmake_fcpl\u001b[0m\u001b[0;34m(\u001b[0m\u001b[0mtrack_order\u001b[0m\u001b[0;34m=\u001b[0m\u001b[0mtrack_order\u001b[0m\u001b[0;34m)\u001b[0m\u001b[0;34m,\u001b[0m\u001b[0;34m\u001b[0m\u001b[0;34m\u001b[0m\u001b[0m\n\u001b[0;32m--> 408\u001b[0;31m                                swmr=swmr)\n\u001b[0m\u001b[1;32m    409\u001b[0m \u001b[0;34m\u001b[0m\u001b[0m\n\u001b[1;32m    410\u001b[0m             \u001b[0;32mif\u001b[0m \u001b[0misinstance\u001b[0m\u001b[0;34m(\u001b[0m\u001b[0mlibver\u001b[0m\u001b[0;34m,\u001b[0m \u001b[0mtuple\u001b[0m\u001b[0;34m)\u001b[0m\u001b[0;34m:\u001b[0m\u001b[0;34m\u001b[0m\u001b[0;34m\u001b[0m\u001b[0m\n",
            "\u001b[0;32m/usr/local/lib/python3.6/dist-packages/h5py/_hl/files.py\u001b[0m in \u001b[0;36mmake_fid\u001b[0;34m(name, mode, userblock_size, fapl, fcpl, swmr)\u001b[0m\n\u001b[1;32m    171\u001b[0m         \u001b[0;32mif\u001b[0m \u001b[0mswmr\u001b[0m \u001b[0;32mand\u001b[0m \u001b[0mswmr_support\u001b[0m\u001b[0;34m:\u001b[0m\u001b[0;34m\u001b[0m\u001b[0;34m\u001b[0m\u001b[0m\n\u001b[1;32m    172\u001b[0m             \u001b[0mflags\u001b[0m \u001b[0;34m|=\u001b[0m \u001b[0mh5f\u001b[0m\u001b[0;34m.\u001b[0m\u001b[0mACC_SWMR_READ\u001b[0m\u001b[0;34m\u001b[0m\u001b[0;34m\u001b[0m\u001b[0m\n\u001b[0;32m--> 173\u001b[0;31m         \u001b[0mfid\u001b[0m \u001b[0;34m=\u001b[0m \u001b[0mh5f\u001b[0m\u001b[0;34m.\u001b[0m\u001b[0mopen\u001b[0m\u001b[0;34m(\u001b[0m\u001b[0mname\u001b[0m\u001b[0;34m,\u001b[0m \u001b[0mflags\u001b[0m\u001b[0;34m,\u001b[0m \u001b[0mfapl\u001b[0m\u001b[0;34m=\u001b[0m\u001b[0mfapl\u001b[0m\u001b[0;34m)\u001b[0m\u001b[0;34m\u001b[0m\u001b[0;34m\u001b[0m\u001b[0m\n\u001b[0m\u001b[1;32m    174\u001b[0m     \u001b[0;32melif\u001b[0m \u001b[0mmode\u001b[0m \u001b[0;34m==\u001b[0m \u001b[0;34m'r+'\u001b[0m\u001b[0;34m:\u001b[0m\u001b[0;34m\u001b[0m\u001b[0;34m\u001b[0m\u001b[0m\n\u001b[1;32m    175\u001b[0m         \u001b[0mfid\u001b[0m \u001b[0;34m=\u001b[0m \u001b[0mh5f\u001b[0m\u001b[0;34m.\u001b[0m\u001b[0mopen\u001b[0m\u001b[0;34m(\u001b[0m\u001b[0mname\u001b[0m\u001b[0;34m,\u001b[0m \u001b[0mh5f\u001b[0m\u001b[0;34m.\u001b[0m\u001b[0mACC_RDWR\u001b[0m\u001b[0;34m,\u001b[0m \u001b[0mfapl\u001b[0m\u001b[0;34m=\u001b[0m\u001b[0mfapl\u001b[0m\u001b[0;34m)\u001b[0m\u001b[0;34m\u001b[0m\u001b[0;34m\u001b[0m\u001b[0m\n",
            "\u001b[0;32mh5py/_objects.pyx\u001b[0m in \u001b[0;36mh5py._objects.with_phil.wrapper\u001b[0;34m()\u001b[0m\n",
            "\u001b[0;32mh5py/_objects.pyx\u001b[0m in \u001b[0;36mh5py._objects.with_phil.wrapper\u001b[0;34m()\u001b[0m\n",
            "\u001b[0;32mh5py/h5f.pyx\u001b[0m in \u001b[0;36mh5py.h5f.open\u001b[0;34m()\u001b[0m\n",
            "\u001b[0;31mOSError\u001b[0m: Unable to open file (unable to open file: name = 'model/cifar-100-68-1.9815.hdf5', errno = 2, error message = 'No such file or directory', flags = 0, o_flags = 0)"
          ]
        }
      ]
    },
    {
      "cell_type": "code",
      "metadata": {
        "id": "llLQwCDercwd",
        "colab_type": "code",
        "colab": {}
      },
      "source": [
        "# 테스트 정확도 출력 \n",
        "print(\"\\n Test Accuracy: %.4f\" % (model.evaluate(X_test, Y_test)[1]))"
      ],
      "execution_count": null,
      "outputs": []
    },
    {
      "cell_type": "markdown",
      "metadata": {
        "id": "NIyxRkhuu1lQ",
        "colab_type": "text"
      },
      "source": [
        "결과 그래프로 확인하기"
      ]
    },
    {
      "cell_type": "code",
      "metadata": {
        "id": "xxTeJ2vkrczG",
        "colab_type": "code",
        "colab": {}
      },
      "source": [
        "# 테스트셋\n",
        "y_vloss = history.history['val_loss']\n",
        "y_vacc = history.history['val_accuracy']\n",
        "# 학습셋\n",
        "y_loss = history.history['loss']\n",
        "y_acc = history.history['accuracy']"
      ],
      "execution_count": null,
      "outputs": []
    },
    {
      "cell_type": "code",
      "metadata": {
        "id": "l56iCEs_rc1-",
        "colab_type": "code",
        "colab": {}
      },
      "source": [
        "# 그래프로 표현\n",
        "import numpy as np\n",
        "np.random.seed(0)\n",
        "\n",
        "x_len = np.arange(1, len(y_loss)+1)\n",
        "fig, ax0 = plt.subplots(figsize=(10,8))\n",
        "ax1 = ax0.twinx()\n",
        "ax0.plot(x_len, y_loss, c=\"blue\", label='Trainset_loss')\n",
        "ax0.plot(x_len, y_vloss, c=\"red\", label='Testset_loss')\n",
        "ax0.set_ylabel('loss')\n",
        "ax1.plot(x_len, y_acc, c=\"darkgreen\", label='Trainset_acc')\n",
        "ax1.plot(x_len, y_vacc, c=\"magenta\", label='Testset_acc')\n",
        "ax1.set_ylabel('accuracy')\n",
        "ax0.set_xlabel('epoch')\n",
        "ax0.legend(loc='upper center')\n",
        "ax1.legend(loc='lower center')\n",
        "plt.show()"
      ],
      "execution_count": null,
      "outputs": []
    },
    {
      "cell_type": "code",
      "metadata": {
        "id": "FSkYI_1E6tQN",
        "colab_type": "code",
        "colab": {}
      },
      "source": [
        "!ls -l model"
      ],
      "execution_count": null,
      "outputs": []
    },
    {
      "cell_type": "code",
      "metadata": {
        "id": "otziFlQEDNFu",
        "colab_type": "code",
        "colab": {}
      },
      "source": [
        ""
      ],
      "execution_count": null,
      "outputs": []
    }
  ]
}